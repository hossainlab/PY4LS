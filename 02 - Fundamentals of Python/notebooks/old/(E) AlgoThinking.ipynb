{
 "cells": [
  {
   "cell_type": "markdown",
   "metadata": {},
   "source": [
    "# Introduction to Algorithmic Thinking\n",
    "[Datastics Lab](https://github.com/datasticslab/ISCB) | Created by [Jubayer Hossain](https://github.com/jubayer-hossain)"
   ]
  },
  {
   "cell_type": "markdown",
   "metadata": {},
   "source": [
    "## Previous\n",
    "- What is Python? \n",
    "- Why Python Rocks in Research? \n",
    "- Little bit history of Python \n",
    "- Variables, Expressions, Comments \n",
    "- Data Types \n",
    "- Printing Messages \n",
    "- Operators in Python\n",
    "- Python Data Type Conversion \n",
    "- Python User Inputs \n",
    "\n",
    "## Today \n",
    "- Algorithms \n",
    "- Flowchart "
   ]
  },
  {
   "cell_type": "markdown",
   "metadata": {},
   "source": [
    "## What is Algorithms? \n",
    "An algorithm is a **sequence** combination of finite steps to solve a particular problem. <br>\n",
    "> “Algorithmic thinking is likely to cause the most disruptive paradigm shift in the sciences since quantum mechanics.” <br> —Bernard Chazelle\n",
    "\n",
    "For example: Multiple two numbers \n",
    "- **Step-1:** Take two inputs(a,b) \n",
    "- **Step-2:** Multiply `a` and `b` and store in `sum`\n",
    "- **Step-3:** Print `sum`\n",
    "\n",
    "## Importance of algorithms \n",
    "- To improve the efficiency of a computer program \n",
    "- Proper utilization of resources "
   ]
  },
  {
   "cell_type": "markdown",
   "metadata": {},
   "source": [
    "## Algorithmic Thinking: The Ultimate Steps \n",
    "![Images](../img/algo.png)\n",
    "- **Step-1:** Understabd the problem \n",
    "- **Step-2:** Formulate it \n",
    "- **Step-3:** Design an algorithm\n",
    "- **Step-4:** Implement it \n",
    "- **Step-5:** Run the code and solve the original problem"
   ]
  },
  {
   "cell_type": "markdown",
   "metadata": {},
   "source": [
    "### Understanding the Problem\n",
    "- Understabd the description of the problem \n",
    "- What are the input/output? \n",
    "- Do a few examples by hand \n",
    "- Think about special cases \n",
    "\n",
    "### Formulate the Problem \n",
    "- Think about the data and the best way to represent them(graph, strings, etc)\n",
    "- What mathematical criterion corresponds to the desired output?\n",
    "\n",
    "### Design an Algorithm \n",
    "- Is the formulated problem amenable to certain algorithm design technique (greedy, divide-and-conquer etc.)\n",
    "- What data structures match"
   ]
  },
  {
   "cell_type": "markdown",
   "metadata": {},
   "source": [
    "## Examples "
   ]
  },
  {
   "cell_type": "markdown",
   "metadata": {},
   "source": [
    "\\begin{example}\n",
    "Write a Python Program to Add Two Integers \n",
    "\\end{example}"
   ]
  },
  {
   "cell_type": "markdown",
   "metadata": {},
   "source": [
    "- Start \n",
    "- Inputs A, B(INT) \n",
    "- SUM = A + B \n",
    "- PRINT SUM \n",
    "- End "
   ]
  },
  {
   "cell_type": "code",
   "execution_count": 1,
   "metadata": {},
   "outputs": [
    {
     "name": "stdout",
     "output_type": "stream",
     "text": [
      "10\n",
      "36\n",
      "46\n"
     ]
    }
   ],
   "source": [
    "A = int(input()) \n",
    "B = int(input()) \n",
    "\n",
    "SUM = A+B \n",
    "print(SUM)"
   ]
  },
  {
   "cell_type": "markdown",
   "metadata": {},
   "source": [
    "\\begin{example}\n",
    "Write a Python Program to Compute the Average of Two Integers  \n",
    "\\end{example}"
   ]
  },
  {
   "cell_type": "markdown",
   "metadata": {},
   "source": [
    "- Start \n",
    "- INPUT A, B(INT) \n",
    "- AVG = A+B/2\n",
    "- PRINT AVG \n",
    "- End "
   ]
  },
  {
   "cell_type": "code",
   "execution_count": 5,
   "metadata": {},
   "outputs": [
    {
     "name": "stdout",
     "output_type": "stream",
     "text": [
      "10\n",
      "36\n",
      "23.0\n"
     ]
    }
   ],
   "source": [
    "X = int(input()) \n",
    "Y = int(input()) \n",
    "AVG = (X+Y)/2 \n",
    "print(AVG)"
   ]
  },
  {
   "cell_type": "markdown",
   "metadata": {},
   "source": [
    "## What is Flow Chart?"
   ]
  },
  {
   "cell_type": "markdown",
   "metadata": {},
   "source": [
    "A flowchart is a type of diagram that represents a workflow or process. **A flowchart can also be defined as a diagrammatic representation of an algorithm, a step-by-step approach to solving a task.** The flowchart shows the steps as boxes of various kinds, and their order by connecting the boxes with arrows. \n",
    "Sources: [wikipedia](https://en.wikipedia.org/wiki/Flowchart)\n",
    "\n",
    "![flow chart](../img/flow-chart.png)"
   ]
  },
  {
   "cell_type": "markdown",
   "metadata": {},
   "source": [
    "## Decision Making \n",
    "- **Step-1:** Start \n",
    "- **Step-2:** Input Marks \n",
    "- **Step-3:** Calculate Grade and Store in a Variable(Grade = M1+M2+M3+M4)\n",
    "- **Step-4:** Grade < 60?\n",
    "    - **Step-4.1:** Yes, then print `FAIL` \n",
    "    - **Step-4.2:** False, then print `PASS`     \n",
    "- **Step-5:** End "
   ]
  },
  {
   "cell_type": "markdown",
   "metadata": {},
   "source": [
    "![](img/pass-fail.png)"
   ]
  },
  {
   "cell_type": "markdown",
   "metadata": {},
   "source": [
    "## What is Pseudocode? \n",
    "Pseudocode is an informal high-level description of the operating principle of a computer program or other algorithm. It uses the structural conventions of a normal programming language, but is intended for human reading rather than machine reading. \n",
    "\n",
    "Source: [wikipedia](https://en.wikipedia.org/wiki/Pseudocode)"
   ]
  },
  {
   "cell_type": "markdown",
   "metadata": {},
   "source": [
    "### Pseudocode Example\n",
    "```python\n",
    "Input M1\n",
    "Input M2 \n",
    "Input M3 \n",
    "Input M4 \n",
    "Grade = (M1+M2+M3+M4)/4 \n",
    "if grade < 60\n",
    "    Print FAIL\n",
    "else \n",
    "    Print Pass \n",
    "```"
   ]
  },
  {
   "cell_type": "markdown",
   "metadata": {},
   "source": [
    "## Resources \n",
    "- https://www.python.org/doc/essays/blurb/\n",
    "- https://dev.to/duomly/10-reasons-why-learning-python-is-still-a-great-idea-5abh\n",
    "- https://www.stat.washington.edu/~hoytak/blog/whypython.html\n",
    "- https://www.programiz.com/python-programming"
   ]
  }
 ],
 "metadata": {
  "kernelspec": {
   "display_name": "Python 3",
   "language": "python",
   "name": "python3"
  },
  "language_info": {
   "codemirror_mode": {
    "name": "ipython",
    "version": 3
   },
   "file_extension": ".py",
   "mimetype": "text/x-python",
   "name": "python",
   "nbconvert_exporter": "python",
   "pygments_lexer": "ipython3",
   "version": "3.7.4"
  },
  "latex_envs": {
   "LaTeX_envs_menu_present": true,
   "autoclose": false,
   "autocomplete": true,
   "bibliofile": "biblio.bib",
   "cite_by": "apalike",
   "current_citInitial": 1,
   "eqLabelWithNumbers": true,
   "eqNumInitial": 1,
   "hotkeys": {
    "equation": "Ctrl-E",
    "itemize": "Ctrl-I"
   },
   "labels_anchors": false,
   "latex_user_defs": false,
   "report_style_numbering": false,
   "user_envs_cfg": false
  },
  "toc": {
   "base_numbering": 1,
   "nav_menu": {},
   "number_sections": true,
   "sideBar": true,
   "skip_h1_title": false,
   "title_cell": "Table of Contents",
   "title_sidebar": "Contents",
   "toc_cell": false,
   "toc_position": {},
   "toc_section_display": true,
   "toc_window_display": false
  }
 },
 "nbformat": 4,
 "nbformat_minor": 2
}
