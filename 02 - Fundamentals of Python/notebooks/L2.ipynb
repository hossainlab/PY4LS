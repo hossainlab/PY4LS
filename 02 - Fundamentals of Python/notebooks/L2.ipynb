{
 "cells": [
  {
   "cell_type": "markdown",
   "metadata": {},
   "source": [
    "# Introduction to Python for Health Data Analytics\n",
    "*Lectured by [Md. Atik Shariar Sammo](https://hdrobd.org/member/atik_shariar_sammo/) | Course  & Materials Designed by [Jubayer Hossain](https://jhossain.me/)*\n",
    "\n",
    "\n",
    "## Agenda\n",
    "- Part-1: Algorithmic Thinking\n",
    "- Part-2:  Pyhton Control Flow: Conditional Logic\n",
    "- Part-3: Pyhton Control Flow: Loops"
   ]
  },
  {
   "cell_type": "markdown",
   "metadata": {},
   "source": [
    "## Part-1: Algorithmic Thinking\n",
    "## Topics \n",
    "- What is algorithm?\n",
    "- Importance of algorithmic thinking\n",
    "- What is Flowchart?\n",
    "- What is Pseudocode? \n"
   ]
  },
  {
   "cell_type": "markdown",
   "metadata": {},
   "source": [
    "## What is Algorithms? \n",
    "An algorithm is a **sequence** combination of finite steps to solve a particular problem. <br>\n",
    "> “Algorithmic thinking is likely to cause the most disruptive paradigm shift in the sciences since quantum mechanics.” <br> —Bernard Chazelle\n",
    "\n",
    "For example: Multiple two numbers \n",
    "- **Step-1:** Take two inputs(a,b) \n",
    "- **Step-2:** Multiply `a` and `b` and store in `sum`\n",
    "- **Step-3:** Print `sum`\n",
    "\n",
    "## Importance of algorithms \n",
    "- To improve the efficiency of a computer program \n",
    "- Proper utilization of resources "
   ]
  },
  {
   "cell_type": "markdown",
   "metadata": {},
   "source": [
    "## Algorithmic Thinking: The Ultimate Steps \n",
    "![Images](../img/algo.png)\n",
    "- **Step-1:** Understabd the problem \n",
    "- **Step-2:** Formulate it \n",
    "- **Step-3:** Design an algorithm\n",
    "- **Step-4:** Implement it \n",
    "- **Step-5:** Run the code and solve the original problem"
   ]
  },
  {
   "cell_type": "markdown",
   "metadata": {},
   "source": [
    "### Understanding the Problem\n",
    "- Understabd the description of the problem \n",
    "- What are the input/output? \n",
    "- Do a few examples by hand \n",
    "- Think about special cases \n",
    "\n",
    "### Formulate the Problem \n",
    "- Think about the data and the best way to represent them(graph, strings, etc)\n",
    "- What mathematical criterion corresponds to the desired output?\n",
    "\n",
    "### Design an Algorithm \n",
    "- Is the formulated problem amenable to certain algorithm design technique (greedy, divide-and-conquer etc.)\n",
    "- What data structures match"
   ]
  },
  {
   "cell_type": "markdown",
   "metadata": {},
   "source": [
    "## Examples "
   ]
  },
  {
   "cell_type": "markdown",
   "metadata": {},
   "source": [
    "\\begin{example}\n",
    "Write a Python Program to Add Two Integers \n",
    "\\end{example}"
   ]
  },
  {
   "cell_type": "markdown",
   "metadata": {},
   "source": [
    "- Start \n",
    "- Inputs A, B(INT) \n",
    "- SUM = A + B \n",
    "- PRINT SUM \n",
    "- End "
   ]
  },
  {
   "cell_type": "code",
   "execution_count": null,
   "metadata": {},
   "outputs": [],
   "source": [
    "A = int(input()) \n",
    "B = int(input()) \n",
    "\n",
    "SUM = A+B \n",
    "print(SUM)"
   ]
  },
  {
   "cell_type": "markdown",
   "metadata": {},
   "source": [
    "\\begin{example}\n",
    "Write a Python Program to Compute the Average of Two Integers  \n",
    "\\end{example}"
   ]
  },
  {
   "cell_type": "markdown",
   "metadata": {},
   "source": [
    "- Start \n",
    "- INPUT A, B(INT) \n",
    "- AVG = A+B/2\n",
    "- PRINT AVG \n",
    "- End "
   ]
  },
  {
   "cell_type": "code",
   "execution_count": null,
   "metadata": {},
   "outputs": [],
   "source": [
    "X = int(input()) \n",
    "Y = int(input()) \n",
    "AVG = (X+Y)/2 \n",
    "print(AVG)"
   ]
  },
  {
   "cell_type": "markdown",
   "metadata": {},
   "source": [
    "## What is Flow Chart?"
   ]
  },
  {
   "cell_type": "markdown",
   "metadata": {},
   "source": [
    "A flowchart is a type of diagram that represents a workflow or process. **A flowchart can also be defined as a diagrammatic representation of an algorithm, a step-by-step approach to solving a task.** The flowchart shows the steps as boxes of various kinds, and their order by connecting the boxes with arrows. \n",
    "Sources: [wikipedia](https://en.wikipedia.org/wiki/Flowchart)\n",
    "\n",
    "![flow chart](../img/flow-chart.png)"
   ]
  },
  {
   "cell_type": "markdown",
   "metadata": {},
   "source": [
    "## Decision Making \n",
    "- **Step-1:** Start \n",
    "- **Step-2:** Input Marks \n",
    "- **Step-3:** Calculate Grade and Store in a Variable(Grade = M1+M2+M3+M4)\n",
    "- **Step-4:** Grade < 60?\n",
    "    - **Step-4.1:** Yes, then print `FAIL` \n",
    "    - **Step-4.2:** False, then print `PASS`     \n",
    "- **Step-5:** End "
   ]
  },
  {
   "cell_type": "markdown",
   "metadata": {},
   "source": [
    "![](img/pass-fail.png)"
   ]
  },
  {
   "cell_type": "markdown",
   "metadata": {},
   "source": [
    "## What is Pseudocode? \n",
    "Pseudocode is an informal high-level description of the operating principle of a computer program or other algorithm. It uses the structural conventions of a normal programming language, but is intended for human reading rather than machine reading. \n",
    "\n",
    "Source: [wikipedia](https://en.wikipedia.org/wiki/Pseudocode)"
   ]
  },
  {
   "cell_type": "markdown",
   "metadata": {},
   "source": [
    "### Pseudocode Example\n",
    "```python\n",
    "Input M1\n",
    "Input M2 \n",
    "Input M3 \n",
    "Input M4 \n",
    "Grade = (M1+M2+M3+M4)/4 \n",
    "if grade < 60\n",
    "    Print FAIL\n",
    "else \n",
    "    Print Pass \n",
    "```"
   ]
  },
  {
   "cell_type": "markdown",
   "metadata": {},
   "source": [
    "<a href=\"#Introduction-to-Python-for-Health-Data-Analytics\">Back to Top</a>"
   ]
  },
  {
   "cell_type": "markdown",
   "metadata": {},
   "source": [
    "## Part-2: Python Control Flow: Conditional Logic\n",
    "## Topics\n",
    "- Conditional Execution Patterns \n",
    "- `if` statement \n",
    "- `else` statement \n",
    "- `elif` statement"
   ]
  },
  {
   "cell_type": "markdown",
   "metadata": {},
   "source": [
    "## `if` Statement\n",
    "### Syntax \n",
    "```python\n",
    "if condition:\n",
    "    Statement...1\n",
    "    Statement...2\n",
    "    Statement...n\n",
    "    \n",
    "```\n",
    "- The `if` keyword \n",
    "- A Condition(that is an expression that evaluates True or False) \n",
    "- A colon \n",
    "- Starting on the next line, an **indented** block of code(called if clause) \n",
    "\n",
    "### Flowchart \n",
    "![img](../img/Python_if_statement.jpg)"
   ]
  },
  {
   "cell_type": "code",
   "execution_count": null,
   "metadata": {},
   "outputs": [],
   "source": [
    "# Example-1 \n",
    "x = 5 \n",
    "if x > 3:\n",
    "    print(\"Smaller\")\n",
    "    print(\"Inside if\")\n",
    "    \n",
    "print(\"Outside if\")"
   ]
  },
  {
   "cell_type": "code",
   "execution_count": null,
   "metadata": {},
   "outputs": [],
   "source": [
    "# Example-2 \n",
    "if x < 3: \n",
    "    print(\"Smaller\") \n",
    "if x > 3: \n",
    "    print(\"Larger\") \n",
    "print(\"End\")"
   ]
  },
  {
   "cell_type": "markdown",
   "metadata": {},
   "source": [
    "## `else` Statement \n",
    "### Syntax \n",
    "```python\n",
    "if condition:\n",
    "    Body of if block \n",
    "else: \n",
    "    Body of else block \n",
    "    \n",
    "```\n",
    "- The `else` keyword \n",
    "- A colon \n",
    "- Starting on the next line, an **indented** block of code(called else clause) \n",
    "\n",
    "### Flowchart \n",
    "![img](../img/Python_if_else_statement.jpg)"
   ]
  },
  {
   "cell_type": "code",
   "execution_count": null,
   "metadata": {},
   "outputs": [],
   "source": [
    "a = -10 \n",
    "if a > 0: \n",
    "    print(\"Positive\") \n",
    "else: \n",
    "    print(\"Negative\")"
   ]
  },
  {
   "cell_type": "code",
   "execution_count": null,
   "metadata": {},
   "outputs": [],
   "source": [
    "a = 10 \n",
    "if a > 0: \n",
    "    print(\"Positive\") \n",
    "else: \n",
    "    print(\"Negative\")"
   ]
  },
  {
   "cell_type": "code",
   "execution_count": null,
   "metadata": {},
   "outputs": [],
   "source": [
    "a = -3\n",
    "if a >= 0: \n",
    "    print(\"Positive\") \n",
    "else: \n",
    "    print(\"Negative\")"
   ]
  },
  {
   "cell_type": "markdown",
   "metadata": {},
   "source": [
    "## `elif` Statement\n",
    "### Syntax \n",
    "```python\n",
    "if test expression:\n",
    "    Body of if\n",
    "elif test expression:\n",
    "    Body of elif\n",
    "else: \n",
    "    Body of else\n",
    "```\n",
    "- The `elif` keyword \n",
    "- A Condition(that is an expression that evaluates True or False) \n",
    "- A colon \n",
    "- Starting on the next line, an **indented** block of code(called elif clause) \n",
    "\n",
    "### Flowchart \n",
    "![img](../img/Python_if_elif_else_statement.jpg)"
   ]
  },
  {
   "cell_type": "code",
   "execution_count": null,
   "metadata": {},
   "outputs": [],
   "source": [
    "bmi = 20\n",
    "if bmi <= 18.5: \n",
    "    print(\"Unhealthy\")\n",
    "elif bmi >= 18.5 and bmi < 24.5: \n",
    "    print(\"Normal\")\n",
    "elif bmi >= 24.5 and  bmi < 30: \n",
    "    print(\"Healthy\") \n",
    "else: \n",
    "    print(\"Obese\")"
   ]
  },
  {
   "cell_type": "code",
   "execution_count": null,
   "metadata": {},
   "outputs": [],
   "source": [
    "# Even or Odd \n",
    "A = int(input(\"Enter a number: \"))\n",
    "\n",
    "if A % 2 == 0: \n",
    "    print(\"Even\")\n",
    "else: \n",
    "    print(\"Odd\")"
   ]
  },
  {
   "cell_type": "code",
   "execution_count": null,
   "metadata": {},
   "outputs": [],
   "source": [
    "20 % 2 "
   ]
  },
  {
   "cell_type": "code",
   "execution_count": null,
   "metadata": {},
   "outputs": [],
   "source": [
    "11 % 2 "
   ]
  },
  {
   "cell_type": "code",
   "execution_count": null,
   "metadata": {},
   "outputs": [],
   "source": [
    "25 % 2 "
   ]
  },
  {
   "cell_type": "markdown",
   "metadata": {},
   "source": [
    "<a href=\"#Introduction-to-Python-for-Health-Data-Analytics\">Back to Top</a>"
   ]
  },
  {
   "cell_type": "markdown",
   "metadata": {},
   "source": [
    "## Part-3: Python Control Flow Loops\n",
    "## Topics\n",
    "- `while` loop \n",
    "- `range()` function\n",
    "- `for` loop \n",
    "- `pass` statement\n",
    "- `break` statement \n",
    "- `continue` statement \n",
    "\n"
   ]
  },
  {
   "cell_type": "markdown",
   "metadata": {},
   "source": [
    "## Why Loops?"
   ]
  },
  {
   "cell_type": "code",
   "execution_count": null,
   "metadata": {},
   "outputs": [],
   "source": [
    "print(\"Bangladesh!\")\n",
    "print(\"Bangladesh!\")\n",
    "print(\"Bangladesh!\")\n",
    "print(\"Bangladesh!\")\n",
    "print(\"Bangladesh!\")"
   ]
  },
  {
   "cell_type": "markdown",
   "metadata": {},
   "source": [
    "## `while` loop \n",
    "### Syntax \n",
    "```python\n",
    "Counter \n",
    "while condition: \n",
    "    Body of while \n",
    "```\n",
    "\n",
    "### Flowchart \n",
    "![img](../img/whileLoopFlowchart.jpg)"
   ]
  },
  {
   "cell_type": "code",
   "execution_count": null,
   "metadata": {},
   "outputs": [],
   "source": [
    "# Sum of 1-100 natural numbers \n",
    "total = 0\n",
    "n = 1 \n",
    "while n <= 100:\n",
    "    total = total + n \n",
    "    n = n+ 1\n",
    "print(total)    "
   ]
  },
  {
   "cell_type": "code",
   "execution_count": null,
   "metadata": {},
   "outputs": [],
   "source": [
    "# Increment \n",
    "i = 0 \n",
    "while i < 10: \n",
    "    i += 1 \n",
    "    print(i)"
   ]
  },
  {
   "cell_type": "code",
   "execution_count": null,
   "metadata": {},
   "outputs": [],
   "source": [
    "# Decrement \n",
    "i = 10 \n",
    "while i > 0:  \n",
    "    i -= 1 \n",
    "    print(i) "
   ]
  },
  {
   "cell_type": "markdown",
   "metadata": {},
   "source": [
    "## `range()` function"
   ]
  },
  {
   "cell_type": "code",
   "execution_count": null,
   "metadata": {},
   "outputs": [],
   "source": [
    "range(1,10) "
   ]
  },
  {
   "cell_type": "code",
   "execution_count": null,
   "metadata": {},
   "outputs": [],
   "source": [
    "range(1, 10, 2)"
   ]
  },
  {
   "cell_type": "code",
   "execution_count": null,
   "metadata": {},
   "outputs": [],
   "source": [
    "list(range(10)) # range(i) ==> i - 1 "
   ]
  },
  {
   "cell_type": "code",
   "execution_count": null,
   "metadata": {},
   "outputs": [],
   "source": [
    "list(range(1, 10)) # range(i) ==> i - 1 "
   ]
  },
  {
   "cell_type": "code",
   "execution_count": null,
   "metadata": {},
   "outputs": [],
   "source": [
    "list(range(1, 11)) # range(i) ==> i - 1 "
   ]
  },
  {
   "cell_type": "code",
   "execution_count": null,
   "metadata": {},
   "outputs": [],
   "source": [
    "list(range(1, 11, 2)) # range(i) ==> i - 1 "
   ]
  },
  {
   "cell_type": "code",
   "execution_count": null,
   "metadata": {},
   "outputs": [],
   "source": [
    "list(range(10, 1, -2)) # range(i) ==> i - 1 "
   ]
  },
  {
   "cell_type": "code",
   "execution_count": null,
   "metadata": {},
   "outputs": [],
   "source": [
    "# 1400, 2000(included) and 2 step  \n",
    "list(range(1400, 2001, 2))"
   ]
  },
  {
   "cell_type": "markdown",
   "metadata": {},
   "source": [
    "## `for` loop\n",
    "### Syntax \n",
    "```python\n",
    "for var in sequence: \n",
    "    Body of for \n",
    "```\n",
    "### Flowchart\n",
    "![img](../img/forLoop.jpg)"
   ]
  },
  {
   "cell_type": "code",
   "execution_count": null,
   "metadata": {},
   "outputs": [],
   "source": [
    "# List Iteration\n",
    "li = [1, 2, 3] \n",
    "for i in li: \n",
    "    print(i) "
   ]
  },
  {
   "cell_type": "code",
   "execution_count": null,
   "metadata": {},
   "outputs": [],
   "source": [
    "# String iteration\n",
    "s = \"Bangladesh\" \n",
    "for j in s: \n",
    "    print(j) "
   ]
  },
  {
   "cell_type": "code",
   "execution_count": null,
   "metadata": {},
   "outputs": [],
   "source": [
    "# for loop using range function: Increment \n",
    "for n in range(1, 11): \n",
    "    print(n) "
   ]
  },
  {
   "cell_type": "code",
   "execution_count": null,
   "metadata": {},
   "outputs": [],
   "source": [
    "# for loop using range function: Decrement  \n",
    "for m in range(10, 0, -1): \n",
    "    print(m) "
   ]
  },
  {
   "cell_type": "markdown",
   "metadata": {},
   "source": [
    "## `break` statement \n",
    "![](./img/how-break-statement-works.jpg)\n",
    "![img](../img/flowchart-break-statement.jpg)"
   ]
  },
  {
   "cell_type": "code",
   "execution_count": null,
   "metadata": {},
   "outputs": [],
   "source": [
    "# Example of break statement in while loop-1\n",
    "j = 0 \n",
    "while j < 10: \n",
    "    j += 1 \n",
    "    if j == 5: \n",
    "        break \n",
    "    print(j) "
   ]
  },
  {
   "cell_type": "code",
   "execution_count": null,
   "metadata": {},
   "outputs": [],
   "source": [
    "# Example of break statement in while loop-2\n",
    "x = 0 \n",
    "while x < 100: \n",
    "    x += 1 \n",
    "    if x == 5: \n",
    "        break \n",
    "    print(x)  "
   ]
  },
  {
   "cell_type": "code",
   "execution_count": null,
   "metadata": {},
   "outputs": [],
   "source": [
    "# Example of break statement in for loop-1\n",
    "for y in range(1, 100):\n",
    "    if y == 5: \n",
    "        break\n",
    "    print(y)"
   ]
  },
  {
   "cell_type": "code",
   "execution_count": null,
   "metadata": {},
   "outputs": [],
   "source": [
    "# Example of break statement in for loop-2\n",
    "for y in range(1, 100):\n",
    "    if y % 5 == 0: \n",
    "        break\n",
    "    print(y)"
   ]
  },
  {
   "cell_type": "markdown",
   "metadata": {},
   "source": [
    "## `continue` Statement in `for` and `while` loop \n",
    "![img](../img/how-continue-statment-works.jpg)\n",
    "![img](../img/continue-statement-flowchart.jpg)"
   ]
  },
  {
   "cell_type": "code",
   "execution_count": null,
   "metadata": {},
   "outputs": [],
   "source": [
    "# Example of continue satement in while loop\n",
    "x = 0 \n",
    "while x < 10: \n",
    "    x += 1 \n",
    "    if x == 5: \n",
    "        continue \n",
    "    print(x)  "
   ]
  },
  {
   "cell_type": "code",
   "execution_count": null,
   "metadata": {},
   "outputs": [],
   "source": [
    "# Example of continue satement in for loop\n",
    "for y in range(1, 10):\n",
    "    if y == 5: \n",
    "        continue\n",
    "    print(y)"
   ]
  },
  {
   "cell_type": "markdown",
   "metadata": {},
   "source": [
    "## `pass` statement"
   ]
  },
  {
   "cell_type": "code",
   "execution_count": null,
   "metadata": {},
   "outputs": [],
   "source": [
    "# pass statement in python control flow structure \n",
    "for i in range(10): \n",
    "    pass "
   ]
  },
  {
   "cell_type": "code",
   "execution_count": null,
   "metadata": {},
   "outputs": [],
   "source": [
    "x = 2 \n",
    "if x < 0: \n",
    "    pass  "
   ]
  },
  {
   "cell_type": "code",
   "execution_count": null,
   "metadata": {},
   "outputs": [],
   "source": [
    "# Odd-Even \n",
    "n = int(input(\"Enter a number: \"))\n",
    "if n % 2 == 0: \n",
    "    print(\"Even\")\n",
    "else: \n",
    "    print(\"Odd\") "
   ]
  },
  {
   "cell_type": "code",
   "execution_count": null,
   "metadata": {},
   "outputs": [],
   "source": [
    "# Negative-Positive \n",
    "m = int(input(\"Enter a number: \")) \n",
    "if m >= 0: \n",
    "    print(\"Positive\") \n",
    "else: \n",
    "    print(\"Negative\")"
   ]
  },
  {
   "cell_type": "code",
   "execution_count": null,
   "metadata": {},
   "outputs": [],
   "source": [
    "# greater-less \n",
    "a = int(input()) \n",
    "b = int(input()) \n",
    "\n",
    "if a > b: \n",
    "    print(f'{a} is greater than {b}') \n",
    "else: \n",
    "    print(f'{a} is less than {b}')  "
   ]
  },
  {
   "cell_type": "code",
   "execution_count": null,
   "metadata": {},
   "outputs": [],
   "source": [
    "# 1-10 even \n",
    "for i in range(1, 11): \n",
    "    if i % 2 == 0:\n",
    "        print(i) "
   ]
  },
  {
   "cell_type": "code",
   "execution_count": null,
   "metadata": {},
   "outputs": [],
   "source": [
    "# 1-10 odd  \n",
    "for i in range(1, 11): \n",
    "    if i % 2 != 0:\n",
    "        print(i) "
   ]
  },
  {
   "cell_type": "code",
   "execution_count": null,
   "metadata": {},
   "outputs": [],
   "source": [
    "# Positive \n",
    "li = [-3, -4, - 5, 11, 14, 14, 5] \n",
    "for n in li: \n",
    "    if n >= 0: \n",
    "        print(n)"
   ]
  },
  {
   "cell_type": "code",
   "execution_count": null,
   "metadata": {},
   "outputs": [],
   "source": [
    "# Negative\n",
    "li = [-3, -4, - 5, 11, 14, 14, 5] \n",
    "for n in li: \n",
    "    if n < 0: \n",
    "        print(n)"
   ]
  },
  {
   "cell_type": "markdown",
   "metadata": {},
   "source": [
    "## Read More \n",
    "- https://www.python.org/doc/essays/blurb/\n",
    "- https://dev.to/duomly/10-reasons-why-learning-python-is-still-a-great-idea-5abh\n",
    "- https://www.stat.washington.edu/~hoytak/blog/whypython.html\n",
    "- https://www.programiz.com/python-programming\n",
    "\n",
    "## Problem Solving \n",
    "- Variable: https://www.sanfoundry.com/python-questions-answers-variable-names/\n",
    "- Operators: https://www.sanfoundry.com/python-mcqs-basic-operators/\n",
    "- Numeric Data Types: https://www.sanfoundry.com/python-questions-answers-numeric-types/"
   ]
  },
  {
   "cell_type": "markdown",
   "metadata": {},
   "source": [
    "*Course  & Materials Designed by [Jubayer Hossain](https://jhossain.me/) | Copyright &copy; 2021 [Health Data Research Organization](https://hdrobd.org/). All rights reserved*"
   ]
  },
  {
   "cell_type": "markdown",
   "metadata": {},
   "source": [
    "<a href=\"#Introduction-to-Python-for-Health-Data-Analytics\">Back to Top</a>"
   ]
  }
 ],
 "metadata": {
  "kernelspec": {
   "display_name": "Python 3 (ipykernel)",
   "language": "python",
   "name": "python3"
  },
  "language_info": {
   "codemirror_mode": {
    "name": "ipython",
    "version": 3
   },
   "file_extension": ".py",
   "mimetype": "text/x-python",
   "name": "python",
   "nbconvert_exporter": "python",
   "pygments_lexer": "ipython3",
   "version": "3.8.8"
  },
  "latex_envs": {
   "LaTeX_envs_menu_present": true,
   "autoclose": false,
   "autocomplete": true,
   "bibliofile": "biblio.bib",
   "cite_by": "apalike",
   "current_citInitial": 1,
   "eqLabelWithNumbers": true,
   "eqNumInitial": 1,
   "hotkeys": {
    "equation": "Ctrl-E",
    "itemize": "Ctrl-I"
   },
   "labels_anchors": false,
   "latex_user_defs": false,
   "report_style_numbering": false,
   "user_envs_cfg": false
  },
  "toc": {
   "base_numbering": 1,
   "nav_menu": {},
   "number_sections": true,
   "sideBar": true,
   "skip_h1_title": false,
   "title_cell": "Table of Contents",
   "title_sidebar": "Contents",
   "toc_cell": false,
   "toc_position": {},
   "toc_section_display": true,
   "toc_window_display": false
  }
 },
 "nbformat": 4,
 "nbformat_minor": 4
}
