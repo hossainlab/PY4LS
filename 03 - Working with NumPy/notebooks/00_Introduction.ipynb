{
 "cells": [
  {
   "cell_type": "markdown",
   "id": "c912fbec",
   "metadata": {},
   "source": [
    "# Introduction to NumPy "
   ]
  },
  {
   "cell_type": "markdown",
   "id": "d5d28ef1",
   "metadata": {},
   "source": [
    "## What is NumPy?\n",
    "- NumPy is a Python package which stands for ‘Numerical Python’. \n",
    "- It is the core library for scientific computing, which contains a powerful n-dimensional array object.\n",
    "- Provide tools for integrating C, C++ etc. \n",
    "- It is also useful in linear algebra, random number capability etc. \n",
    "- Sophisticated (broadcasting) functions\n",
    "- Tools for integrating C/C++ and Fortran code\n",
    "- Useful linear algebra, Fourier transform, and random number capabilities\n",
    "- NumPy array can also be used as an efficient multi-dimensional container for generic data. "
   ]
  },
  {
   "cell_type": "markdown",
   "id": "5b45b5fe",
   "metadata": {},
   "source": [
    "## Keypoints\n",
    "- NumPy arrays have a fixed size at creation, unlike Python lists(which can grow dynamically). \n",
    "- Changing the size of an `ndarray` will create a new array and delete the original. \n",
    "- The elements in a NumPy array are all required to be of the same data type and thus will be the same size in memory(**Homogenous**)\n",
    "- NumPy arrays facilitate advance mathematical and other types of operations on large numbers of data(**Faster**)"
   ]
  },
  {
   "cell_type": "markdown",
   "id": "1652e6b3",
   "metadata": {},
   "source": [
    "## NumPy Array\n",
    "Numpy array is a powerful N-dimensional array object which is in the form of rows and columns. We can initialize numpy arrays from nested Python lists and access it elements. In order to perform these numpy operations.\n",
    "\n",
    "## N-dimensional Array\n",
    "- 1Dimensional(1D) Array\n",
    "- 2Dimensional(2D) Array\n",
    "- 3Dimensional(3D) Array\n",
    "\n",
    "\n",
    "![NdArray](../img/arrays.png)\n"
   ]
  },
  {
   "cell_type": "markdown",
   "id": "a40beff6",
   "metadata": {},
   "source": [
    "## NumPy Ecosystem \n",
    "- [statsmodel](https://www.statsmodels.org/stable/index.html) \n",
    "Estimate statistical models, and performs tests. \n",
    "- [scikit-image](https://scikit-image.org/) \n",
    "Collection of algorithms for image processing.\n",
    "- [scikit-learn](https://scikit-learn.org/stable/tutorial/basic/tutorial.html#machine-learning-the-problem-setting) \n",
    "Simple and efficient tools for machine learning \n",
    "- [pandas](https://pandas.pydata.org/) \n",
    "Data Analysis and manipulation.\n",
    "- [matplotlib](https://matplotlib.org/index.html)\n",
    "Plotting library for 2D graphs and visualizations."
   ]
  },
  {
   "cell_type": "markdown",
   "id": "9e3627d6",
   "metadata": {},
   "source": [
    "## Why Numpy?\n",
    "- Less Memory\n",
    "- Fast\n",
    "- Convenient"
   ]
  }
 ],
 "metadata": {
  "kernelspec": {
   "display_name": "Python 3",
   "language": "python",
   "name": "python3"
  },
  "language_info": {
   "codemirror_mode": {
    "name": "ipython",
    "version": 3
   },
   "file_extension": ".py",
   "mimetype": "text/x-python",
   "name": "python",
   "nbconvert_exporter": "python",
   "pygments_lexer": "ipython3",
   "version": "3.8.3"
  },
  "latex_envs": {
   "LaTeX_envs_menu_present": true,
   "autoclose": false,
   "autocomplete": true,
   "bibliofile": "biblio.bib",
   "cite_by": "apalike",
   "current_citInitial": 1,
   "eqLabelWithNumbers": true,
   "eqNumInitial": 1,
   "hotkeys": {
    "equation": "Ctrl-E",
    "itemize": "Ctrl-I"
   },
   "labels_anchors": false,
   "latex_user_defs": false,
   "report_style_numbering": false,
   "user_envs_cfg": false
  }
 },
 "nbformat": 4,
 "nbformat_minor": 5
}
