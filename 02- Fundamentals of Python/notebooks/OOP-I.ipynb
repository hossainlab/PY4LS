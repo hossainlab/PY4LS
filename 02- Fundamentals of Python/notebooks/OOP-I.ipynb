{
 "cells": [
  {
   "cell_type": "markdown",
   "metadata": {},
   "source": [
    "## Class and Instances "
   ]
  },
  {
   "cell_type": "code",
   "execution_count": 1,
   "metadata": {},
   "outputs": [],
   "source": [
    "class Employee: \n",
    "    pass   "
   ]
  },
  {
   "cell_type": "code",
   "execution_count": 2,
   "metadata": {},
   "outputs": [],
   "source": [
    "# create instance/object \n",
    "emp1 = Employee() \n",
    "emp2 = Employee() "
   ]
  },
  {
   "cell_type": "code",
   "execution_count": 3,
   "metadata": {},
   "outputs": [
    {
     "name": "stdout",
     "output_type": "stream",
     "text": [
      "<__main__.Employee object at 0x7f66b0f55f70>\n",
      "<__main__.Employee object at 0x7f66b0f55640>\n"
     ]
    }
   ],
   "source": [
    "# print the instances: they are unique  \n",
    "print(emp1)\n",
    "print(emp2)"
   ]
  },
  {
   "cell_type": "code",
   "execution_count": 4,
   "metadata": {},
   "outputs": [],
   "source": [
    "# set data \n",
    "emp1.firstname = 'Jon'\n",
    "emp1.lastname = 'Doe'\n",
    "emp1.email = 'jon.doe@gmail.com'\n",
    "\n",
    "emp2.firstname = 'Jan'\n",
    "emp2.lastname = 'Doe'\n",
    "emp2.email = 'jan.doe@gmail.com'"
   ]
  },
  {
   "cell_type": "code",
   "execution_count": 5,
   "metadata": {},
   "outputs": [
    {
     "name": "stdout",
     "output_type": "stream",
     "text": [
      "jon.doe@gmail.com\n",
      "jan.doe@gmail.com\n"
     ]
    }
   ],
   "source": [
    "# print the attribute\n",
    "print(emp1.email)\n",
    "print(emp2.email)"
   ]
  },
  {
   "cell_type": "code",
   "execution_count": 11,
   "metadata": {},
   "outputs": [],
   "source": [
    "# define constructor \n",
    "class Employee: \n",
    "    def __init__(self, first, last, salary): \n",
    "        self.first = first \n",
    "        self.last = last \n",
    "        self.salary = salary \n",
    "        self.email = first + '.' + last +'@gmail.com' "
   ]
  },
  {
   "cell_type": "code",
   "execution_count": 12,
   "metadata": {},
   "outputs": [],
   "source": [
    "# create object and pass data \n",
    "emp1 = Employee('John', 'Doe', 5000)\n",
    "emp2 = Employee('Jan', 'Doe', 6000)"
   ]
  },
  {
   "cell_type": "code",
   "execution_count": 13,
   "metadata": {},
   "outputs": [
    {
     "name": "stdout",
     "output_type": "stream",
     "text": [
      "John.Doe@gmail.com\n",
      "Jan.Doe@gmail.com\n"
     ]
    }
   ],
   "source": [
    "# print attributes \n",
    "print(emp1.email)\n",
    "print(emp2.email)"
   ]
  },
  {
   "cell_type": "code",
   "execution_count": 14,
   "metadata": {},
   "outputs": [
    {
     "name": "stdout",
     "output_type": "stream",
     "text": [
      "John Doe\n"
     ]
    }
   ],
   "source": [
    "# action/methods \n",
    "print(f'{emp1.first} {emp1.last}')"
   ]
  },
  {
   "cell_type": "code",
   "execution_count": 17,
   "metadata": {},
   "outputs": [],
   "source": [
    "class Employee: \n",
    "    def __init__(self, first, last, salary): \n",
    "        self.first = first \n",
    "        self.last = last \n",
    "        self.salary = salary \n",
    "        self.email = first + '.' + last +'@gmail.com' \n",
    "        \n",
    "    def fullname(self): \n",
    "        return f'{self.first} {self.last}'"
   ]
  },
  {
   "cell_type": "code",
   "execution_count": 19,
   "metadata": {},
   "outputs": [],
   "source": [
    "# create object and pass data \n",
    "emp1 = Employee('John', 'Doe', 5000)\n",
    "emp2 = Employee('Jan', 'Doe', 6000)"
   ]
  },
  {
   "cell_type": "code",
   "execution_count": 20,
   "metadata": {},
   "outputs": [
    {
     "name": "stdout",
     "output_type": "stream",
     "text": [
      "John Doe\n"
     ]
    }
   ],
   "source": [
    "print(emp1.fullname())"
   ]
  },
  {
   "cell_type": "code",
   "execution_count": 21,
   "metadata": {},
   "outputs": [],
   "source": [
    "class Employee: \n",
    "    def __init__(self, first, last, salary): \n",
    "        self.first = first \n",
    "        self.last = last \n",
    "        self.salary = salary \n",
    "        self.email = first + '.' + last +'@gmail.com' \n",
    "        \n",
    "    def fullname(): \n",
    "        return f'{self.first} {self.last}'"
   ]
  },
  {
   "cell_type": "code",
   "execution_count": 22,
   "metadata": {},
   "outputs": [],
   "source": [
    "# create object and pass data \n",
    "emp1 = Employee('John', 'Doe', 5000)\n",
    "emp2 = Employee('Jan', 'Doe', 6000)"
   ]
  },
  {
   "cell_type": "code",
   "execution_count": 24,
   "metadata": {},
   "outputs": [
    {
     "ename": "TypeError",
     "evalue": "fullname() takes 0 positional arguments but 1 was given",
     "output_type": "error",
     "traceback": [
      "\u001b[0;31m---------------------------------------------------------------------------\u001b[0m",
      "\u001b[0;31mTypeError\u001b[0m                                 Traceback (most recent call last)",
      "\u001b[0;32m<ipython-input-24-2d40ad35570c>\u001b[0m in \u001b[0;36m<module>\u001b[0;34m\u001b[0m\n\u001b[1;32m      1\u001b[0m \u001b[0;31m# automatically pass the instances\u001b[0m\u001b[0;34m\u001b[0m\u001b[0;34m\u001b[0m\u001b[0;34m\u001b[0m\u001b[0m\n\u001b[0;32m----> 2\u001b[0;31m \u001b[0mprint\u001b[0m\u001b[0;34m(\u001b[0m\u001b[0memp1\u001b[0m\u001b[0;34m.\u001b[0m\u001b[0mfullname\u001b[0m\u001b[0;34m(\u001b[0m\u001b[0;34m)\u001b[0m\u001b[0;34m)\u001b[0m\u001b[0;34m\u001b[0m\u001b[0;34m\u001b[0m\u001b[0m\n\u001b[0m",
      "\u001b[0;31mTypeError\u001b[0m: fullname() takes 0 positional arguments but 1 was given"
     ]
    }
   ],
   "source": [
    "# automatically pass the instances \n",
    "print(emp1.fullname())"
   ]
  },
  {
   "cell_type": "code",
   "execution_count": 28,
   "metadata": {},
   "outputs": [],
   "source": [
    "class Employee: \n",
    "    def __init__(self, first, last, salary): \n",
    "        self.first = first \n",
    "        self.last = last \n",
    "        self.salary = salary \n",
    "        self.email = first + '.' + last +'@gmail.com' \n",
    "        \n",
    "    def fullname(self): \n",
    "        return f'{self.first} {self.last}'"
   ]
  },
  {
   "cell_type": "code",
   "execution_count": 29,
   "metadata": {},
   "outputs": [],
   "source": [
    "# create object and pass data \n",
    "emp1 = Employee('John', 'Doe', 5000)\n",
    "emp2 = Employee('Jan', 'Doe', 6000)"
   ]
  },
  {
   "cell_type": "code",
   "execution_count": 32,
   "metadata": {},
   "outputs": [
    {
     "name": "stdout",
     "output_type": "stream",
     "text": [
      "John Doe\n"
     ]
    }
   ],
   "source": [
    "print(Employee.fullname(emp1))"
   ]
  },
  {
   "cell_type": "code",
   "execution_count": 33,
   "metadata": {},
   "outputs": [
    {
     "name": "stdout",
     "output_type": "stream",
     "text": [
      "John Doe\n"
     ]
    }
   ],
   "source": [
    "print(emp1.fullname())  "
   ]
  },
  {
   "cell_type": "markdown",
   "metadata": {},
   "source": [
    "## Class Variables "
   ]
  },
  {
   "cell_type": "code",
   "execution_count": 35,
   "metadata": {},
   "outputs": [],
   "source": [
    "class Employee: \n",
    "    raise_amount = 1.04 \n",
    "    def __init__(self, first, last, salary): \n",
    "        self.first = first \n",
    "        self.last = last \n",
    "        self.salary = salary \n",
    "        self.email = first + '.' + last +'@gmail.com' \n",
    "        \n",
    "    def fullname(self): \n",
    "        return f'{self.first} {self.last}'\n",
    "    \n",
    "    def apply_raise(self): \n",
    "        self.salary = int(self.salary * raise_amount)"
   ]
  },
  {
   "cell_type": "code",
   "execution_count": 39,
   "metadata": {},
   "outputs": [],
   "source": [
    "# create object and pass data \n",
    "emp1 = Employee('John', 'Doe', 5000)\n",
    "emp2 = Employee('Jan', 'Doe', 6000)"
   ]
  },
  {
   "cell_type": "code",
   "execution_count": 41,
   "metadata": {},
   "outputs": [
    {
     "name": "stdout",
     "output_type": "stream",
     "text": [
      "9200\n",
      "16928\n"
     ]
    }
   ],
   "source": [
    "print(emp1.salary)\n",
    "emp1.apply_raise()\n",
    "print(emp1.salary) "
   ]
  }
 ],
 "metadata": {
  "kernelspec": {
   "display_name": "Python 3 (ipykernel)",
   "language": "python",
   "name": "python3"
  },
  "language_info": {
   "codemirror_mode": {
    "name": "ipython",
    "version": 3
   },
   "file_extension": ".py",
   "mimetype": "text/x-python",
   "name": "python",
   "nbconvert_exporter": "python",
   "pygments_lexer": "ipython3",
   "version": "3.8.8"
  },
  "latex_envs": {
   "LaTeX_envs_menu_present": true,
   "autoclose": false,
   "autocomplete": true,
   "bibliofile": "biblio.bib",
   "cite_by": "apalike",
   "current_citInitial": 1,
   "eqLabelWithNumbers": true,
   "eqNumInitial": 1,
   "hotkeys": {
    "equation": "Ctrl-E",
    "itemize": "Ctrl-I"
   },
   "labels_anchors": false,
   "latex_user_defs": false,
   "report_style_numbering": false,
   "user_envs_cfg": false
  }
 },
 "nbformat": 4,
 "nbformat_minor": 4
}
