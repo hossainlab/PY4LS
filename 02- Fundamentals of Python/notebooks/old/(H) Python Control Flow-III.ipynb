{
 "cells": [
  {
   "cell_type": "code",
   "execution_count": 2,
   "metadata": {},
   "outputs": [
    {
     "name": "stdout",
     "output_type": "stream",
     "text": [
      "Enter a number: 10\n",
      "Even\n"
     ]
    }
   ],
   "source": [
    "# Odd-Even \n",
    "n = int(input(\"Enter a number: \"))\n",
    "if n % 2 == 0: \n",
    "    print(\"Even\")\n",
    "else: \n",
    "    print(\"Odd\") "
   ]
  },
  {
   "cell_type": "code",
   "execution_count": 3,
   "metadata": {},
   "outputs": [
    {
     "name": "stdout",
     "output_type": "stream",
     "text": [
      "Enter a number: -10\n",
      "Negative\n"
     ]
    }
   ],
   "source": [
    "# Negative-Positive \n",
    "m = int(input(\"Enter a number: \")) \n",
    "if m >= 0: \n",
    "    print(\"Positive\") \n",
    "else: \n",
    "    print(\"Negative\")"
   ]
  },
  {
   "cell_type": "code",
   "execution_count": 5,
   "metadata": {},
   "outputs": [
    {
     "name": "stdout",
     "output_type": "stream",
     "text": [
      "2\n",
      "5\n",
      "2 is less than 5\n"
     ]
    }
   ],
   "source": [
    "# greater-less \n",
    "a = int(input()) \n",
    "b = int(input()) \n",
    "\n",
    "if a > b: \n",
    "    print(f'{a} is greater than {b}') \n",
    "else: \n",
    "    print(f'{a} is less than {b}')  "
   ]
  },
  {
   "cell_type": "code",
   "execution_count": 8,
   "metadata": {},
   "outputs": [
    {
     "name": "stdout",
     "output_type": "stream",
     "text": [
      "2\n",
      "4\n",
      "6\n",
      "8\n",
      "10\n"
     ]
    }
   ],
   "source": [
    "# 1-10 even \n",
    "for i in range(1, 11): \n",
    "    if i % 2 == 0:\n",
    "        print(i) "
   ]
  },
  {
   "cell_type": "code",
   "execution_count": 9,
   "metadata": {},
   "outputs": [
    {
     "name": "stdout",
     "output_type": "stream",
     "text": [
      "1\n",
      "3\n",
      "5\n",
      "7\n",
      "9\n"
     ]
    }
   ],
   "source": [
    "# 1-10 odd  \n",
    "for i in range(1, 11): \n",
    "    if i % 2 != 0:\n",
    "        print(i) "
   ]
  },
  {
   "cell_type": "code",
   "execution_count": 10,
   "metadata": {},
   "outputs": [
    {
     "name": "stdout",
     "output_type": "stream",
     "text": [
      "11\n",
      "14\n",
      "14\n",
      "5\n"
     ]
    }
   ],
   "source": [
    "# Positive \n",
    "li = [-3, -4, - 5, 11, 14, 14, 5] \n",
    "for n in li: \n",
    "    if n >= 0: \n",
    "        print(n)"
   ]
  },
  {
   "cell_type": "code",
   "execution_count": 11,
   "metadata": {},
   "outputs": [
    {
     "name": "stdout",
     "output_type": "stream",
     "text": [
      "-3\n",
      "-4\n",
      "-5\n"
     ]
    }
   ],
   "source": [
    "# Negative\n",
    "li = [-3, -4, - 5, 11, 14, 14, 5] \n",
    "for n in li: \n",
    "    if n < 0: \n",
    "        print(n)"
   ]
  }
 ],
 "metadata": {
  "kernelspec": {
   "display_name": "Python 3",
   "language": "python",
   "name": "python3"
  },
  "language_info": {
   "codemirror_mode": {
    "name": "ipython",
    "version": 3
   },
   "file_extension": ".py",
   "mimetype": "text/x-python",
   "name": "python",
   "nbconvert_exporter": "python",
   "pygments_lexer": "ipython3",
   "version": "3.7.4"
  },
  "latex_envs": {
   "LaTeX_envs_menu_present": true,
   "autoclose": false,
   "autocomplete": true,
   "bibliofile": "biblio.bib",
   "cite_by": "apalike",
   "current_citInitial": 1,
   "eqLabelWithNumbers": true,
   "eqNumInitial": 1,
   "hotkeys": {
    "equation": "Ctrl-E",
    "itemize": "Ctrl-I"
   },
   "labels_anchors": false,
   "latex_user_defs": false,
   "report_style_numbering": false,
   "user_envs_cfg": false
  },
  "toc": {
   "base_numbering": 1,
   "nav_menu": {},
   "number_sections": true,
   "sideBar": true,
   "skip_h1_title": false,
   "title_cell": "Table of Contents",
   "title_sidebar": "Contents",
   "toc_cell": false,
   "toc_position": {},
   "toc_section_display": true,
   "toc_window_display": false
  }
 },
 "nbformat": 4,
 "nbformat_minor": 2
}
