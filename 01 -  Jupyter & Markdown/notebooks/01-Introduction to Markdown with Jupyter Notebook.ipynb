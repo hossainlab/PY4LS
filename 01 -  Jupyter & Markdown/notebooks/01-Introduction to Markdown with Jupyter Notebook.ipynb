{
 "cells": [
  {
   "cell_type": "markdown",
   "metadata": {},
   "source": [
    "# Introduction To Markdown \n",
    "\n",
    "Jupyter has an implementation of markdown language that can be used in in markdown cells to create formatted text and media documentation in your notebook. LaTeX is also implemented to create high quality mathematical typeset.\n"
   ]
  },
  {
   "cell_type": "markdown",
   "metadata": {},
   "source": [
    "## Headings\n",
    "\n",
    "# H1\n",
    "## H2\n",
    "### H3\n",
    "#### H4\n",
    "##### H5\n",
    "###### H6\n",
    "\n",
    "**Code:**\n",
    "```markdown\n",
    "#H1\n",
    "##H2\n",
    "###H3\n",
    "####H4\n",
    "#####H5\n",
    "######H6\n",
    "```"
   ]
  },
  {
   "cell_type": "markdown",
   "metadata": {},
   "source": [
    "**Code:**\n",
    "```markdown\n",
    "Heading 1\n",
    "=========\n",
    "\n",
    "Heading 2\n",
    "---------\n",
    "```"
   ]
  },
  {
   "cell_type": "markdown",
   "metadata": {},
   "source": [
    "## Font Styles\n",
    "\n",
    "**Bold Font** or __Bold Font__\n",
    "\n",
    "*Italic* or _Italic Font_\n",
    "\n",
    "~~Scratched Text~~\n",
    "\n",
    "Markdown doesn't support underline. but you can do that using HTML <u>Text</u>\n",
    "\n",
    "**Code:**\n",
    "```markdown\n",
    "**Bold Font** or __Bold Font__\n",
    "\n",
    "*Italic* or _Italic Font_\n",
    "\n",
    "~~Scratched Text~~\n",
    "\n",
    "Markdown doesn't support underline. but you can do that using HTML <u>Text</u>\n",
    "```\n"
   ]
  },
  {
   "cell_type": "markdown",
   "metadata": {},
   "source": [
    "## Lists\n",
    "\n",
    "- item\n",
    "- item\n",
    " - subitem\n",
    " - subitem\n",
    "- item\n",
    "\n",
    "\n",
    "1. item\n",
    "2. item\n",
    " 1. sub item\n",
    " 2. sub item\n",
    "3. item\n",
    "\n",
    "**Code:**\n",
    "```markdown\n",
    "- item\n",
    "- item\n",
    " - subitem\n",
    " - subitem\n",
    "- item\n",
    "\n",
    "\n",
    "1. item\n",
    "2. item\n",
    " 1. sub item\n",
    " 2. sub item\n",
    "3. item\n",
    "```"
   ]
  },
  {
   "cell_type": "markdown",
   "metadata": {},
   "source": [
    "## Links\n",
    "\n",
    "http://www.github.com/\n",
    "\n",
    "[Github](http://www.github.com/)\n",
    "\n",
    "\n",
    "**Code:**\n",
    "```\n",
    "http://www.github.com/\n",
    "\n",
    "[Github](http://www.github.com/)\n",
    "```"
   ]
  },
  {
   "cell_type": "markdown",
   "metadata": {},
   "source": [
    "\n",
    "### Images\n",
    "![Turing's Device](http://www.google.com/logos/2012/turing-doodle-static.jpg \"Alan Turing's 100th Birthday\")\n",
    "\n",
    "**Code:**\n",
    "```markdown\n",
    "![Turing's Device](http://www.google.com/logos/2012/turing-doodle-static.jpg \"Alan Turing's 100th Birthday\")\n",
    "```"
   ]
  },
  {
   "cell_type": "markdown",
   "metadata": {},
   "source": [
    "## Quotes\n",
    "\n",
    "> Why, oh why, Javascript??? Wars, famine, planetary destruction... I guess as a species, we deserve this abomination...\n",
    ">\n",
    "> [Fernando Perez](https://twitter.com/fperez_org)\n",
    "\n",
    "**Code:**\n",
    "```\n",
    "> Why, oh why, Javascript??? Wars, famine, planetary destruction... I guess as a species, we deserve this abomination...\n",
    ">\n",
    "> [Fernando Perez](https://twitter.com/fperez_org)\n",
    "```\n"
   ]
  },
  {
   "cell_type": "markdown",
   "metadata": {},
   "source": [
    "## Horizontal Line\n",
    "---\n",
    "\n",
    "**Code:**\n",
    "```markdown\n",
    "---\n",
    "```"
   ]
  },
  {
   "cell_type": "markdown",
   "metadata": {},
   "source": [
    "## Tables\n",
    "\n",
    "| Tables        | Are           | Cool  |\n",
    "| ------------- |:-------------:| -----:|\n",
    "| col 3 is      | right-aligned |  1600 |\n",
    "| col 2 is      | centered      |    12 |\n",
    "| zebra stripes | are neat      |     1 |\n",
    "\n",
    "**Code:**\n",
    "\n",
    "```\n",
    "| Tables        | Are           | Cool  |\n",
    "| ------------- |:-------------:| -----:|\n",
    "| col 3 is      | right-aligned |  1600 |\n",
    "| col 2 is      | centered      |    12 |\n",
    "| zebra stripes | are neat      |     1 |\n",
    "```"
   ]
  },
  {
   "cell_type": "markdown",
   "metadata": {},
   "source": [
    "## Code\n",
    "\n",
    "You can add in line code like this `import numpy as np`\n",
    "\n",
    "Or block code:\n",
    "\n",
    "Python Code:\n",
    "```python\n",
    "x = 5\n",
    "print \"%.2f\" % x\n",
    "```\n",
    "\n",
    "**Code:**\n",
    "\n",
    "<pre>\n",
    "Python Code:\n",
    "```python\n",
    "x = 5\n",
    "print \"%.2f\" % x\n",
    "```\n",
    "\n",
    "</pre>"
   ]
  },
  {
   "cell_type": "markdown",
   "metadata": {},
   "source": [
    "\n",
    "\n",
    "\n",
    "\n",
    "\n",
    "\n",
    "\n",
    "\n",
    "### HTML\n",
    "\n",
    "<b>You</b> can <i>render</i> almost any <span style=\"color:red;\">HTML</span> code you <u>like</u>.\n",
    "\n",
    "**Code:**\n",
    "\n",
    "```\n",
    "<b>You</b> can <i>render</i> almost any <span style=\"color:red;\">HTML</span> code you <u>like</u>.\n",
    "```\n",
    "\n"
   ]
  },
  {
   "cell_type": "markdown",
   "metadata": {},
   "source": [
    "## References\n",
    "- https://www.math.ubc.ca/~pwalls/math-python/jupyter/latex/\n",
    "- [LaTeX Wiki](http://en.wikibooks.org/wiki/LaTeX/Mathematics)\n",
    "- [Duke University, Department of  Statistical Science](https://stat.duke.edu/resources/computing/latex)\n",
    "- [Equation Sheet](http://www.equationsheet.com/)"
   ]
  }
 ],
 "metadata": {
  "kernelspec": {
   "display_name": "Python 3 (ipykernel)",
   "language": "python",
   "name": "python3"
  },
  "language_info": {
   "codemirror_mode": {
    "name": "ipython",
    "version": 3
   },
   "file_extension": ".py",
   "mimetype": "text/x-python",
   "name": "python",
   "nbconvert_exporter": "python",
   "pygments_lexer": "ipython3",
   "version": "3.8.8"
  },
  "latex_envs": {
   "LaTeX_envs_menu_present": true,
   "autoclose": false,
   "autocomplete": true,
   "bibliofile": "biblio.bib",
   "cite_by": "apalike",
   "current_citInitial": 1,
   "eqLabelWithNumbers": true,
   "eqNumInitial": 1,
   "hotkeys": {
    "equation": "Ctrl-E",
    "itemize": "Ctrl-I"
   },
   "labels_anchors": false,
   "latex_user_defs": false,
   "report_style_numbering": false,
   "user_envs_cfg": false
  }
 },
 "nbformat": 4,
 "nbformat_minor": 4
}
