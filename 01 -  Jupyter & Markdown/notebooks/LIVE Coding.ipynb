{
 "cells": [
  {
   "cell_type": "markdown",
   "id": "c2fac4c5-1c0e-44f7-b53e-c09a7bb85157",
   "metadata": {},
   "source": [
    "# Headings "
   ]
  },
  {
   "cell_type": "markdown",
   "id": "4ebe143a-551c-4e9f-9bb7-a5950a8c339b",
   "metadata": {},
   "source": [
    "# Heading 1\n",
    "## Heading 2\n",
    "### Heading 3\n",
    "#### Heading 4\n",
    "##### Heading 5\n",
    "###### Heading 6"
   ]
  },
  {
   "cell_type": "markdown",
   "id": "405a5a61-8305-4bc6-836a-171cbd43c6df",
   "metadata": {},
   "source": [
    "# Methods \n",
    "\n",
    "## Study Design \n",
    "### Participants Enrollment \n",
    "\n",
    "## Instrument \n",
    "\n",
    "## Data collection \n",
    "### Data Management \n",
    "### Data Cleaning \n",
    "\n",
    "\n",
    "## Sampling Procedure \n",
    "\n",
    "## Data Analysis \n",
    "\n",
    "\n",
    "\n"
   ]
  },
  {
   "cell_type": "markdown",
   "id": "5faf9706-f92c-4b16-95bd-0c2e851c5c4e",
   "metadata": {},
   "source": [
    "Introduction To Python\n",
    "======================"
   ]
  },
  {
   "cell_type": "markdown",
   "id": "c52bebc3-edc2-4c35-841a-a382108d2baf",
   "metadata": {},
   "source": [
    "A Gentle Introduction to Biostats \n",
    "---------------------------------"
   ]
  },
  {
   "cell_type": "markdown",
   "id": "f1491e47-377d-4a1e-9097-671897dbd5a8",
   "metadata": {},
   "source": [
    "# Font Styels "
   ]
  },
  {
   "cell_type": "markdown",
   "id": "772109c5-ba6d-4b89-9075-617975f259fa",
   "metadata": {},
   "source": [
    "__Text Bold__"
   ]
  },
  {
   "cell_type": "markdown",
   "id": "bc243190-0bb6-4af6-9884-361749b6dfac",
   "metadata": {},
   "source": [
    "**Text bold**"
   ]
  },
  {
   "cell_type": "markdown",
   "id": "c4d04bd4-24fc-4678-a7f2-003ddc9887ef",
   "metadata": {},
   "source": [
    "*Italic Text*"
   ]
  },
  {
   "cell_type": "markdown",
   "id": "80cf960e-eb04-4e98-b350-823020693d83",
   "metadata": {},
   "source": [
    "## List"
   ]
  },
  {
   "cell_type": "markdown",
   "id": "4eab9f18-3868-42bf-853e-1043667ba70d",
   "metadata": {},
   "source": [
    "## Features of Python \n",
    "- feature 1 \n",
    "    - sub item \n",
    "- feature 2 "
   ]
  },
  {
   "cell_type": "markdown",
   "id": "16e68ed3-6432-4ac1-9277-405c1cb1be0a",
   "metadata": {},
   "source": [
    "## Features of Python \n",
    "1. feature 1 \n",
    "2. feature 2 "
   ]
  },
  {
   "cell_type": "markdown",
   "id": "09630ea8-2606-4e20-a8ef-b7f86202e769",
   "metadata": {},
   "source": [
    "## Links"
   ]
  },
  {
   "cell_type": "markdown",
   "id": "737564e1-1f01-473b-a12b-05fc9e46bd32",
   "metadata": {},
   "source": [
    "In publishing and graphic design, Lorem ipsum is a placeholder text commonly used to demonstrate the visual form of a document or a typeface without relying on meaningful content. Lorem ipsum may be used as a placeholder before the final copy is [available](https://www.lipsum.com/).\n",
    "\n",
    "See more/ findout more: https://www.lipsum.com/"
   ]
  },
  {
   "cell_type": "markdown",
   "id": "a590e6fa-b39d-45c6-b189-65ec497346bb",
   "metadata": {},
   "source": [
    "![sin_cosin](../img/sin_cosin.jpeg)"
   ]
  },
  {
   "cell_type": "markdown",
   "id": "108636e2-169d-48d6-857d-cd76709d3054",
   "metadata": {},
   "source": [
    "> In publishing and graphic design, Lorem ipsum is a placeholder text commonly used to demonstrate the visual form of a document or a typeface without relying on meaningful content. Lorem ipsum may be used as a placeholder before the final copy is available. <br/>\n",
    "> *John Doe* "
   ]
  },
  {
   "cell_type": "markdown",
   "id": "5d7782d0-c875-43cc-bb86-1cdf7994f1a7",
   "metadata": {},
   "source": [
    "## Tables"
   ]
  },
  {
   "cell_type": "markdown",
   "id": "2fff7434-3541-4b0b-b9d6-b3fb7804b00d",
   "metadata": {},
   "source": [
    "| Name        | Roll           | CPGA  |\n",
    "|:-------------|:-------------|:-----|\n",
    "|Abul | B150605021| 2.90|\n",
    "|Babul|B150605022|3.56|"
   ]
  },
  {
   "cell_type": "markdown",
   "id": "d6b31ed2-1d08-4481-b618-e06d14e3c1cc",
   "metadata": {},
   "source": [
    "```python\n",
    "# Create bar charts using seaborn\n",
    "plt.figure(figsize=(8,6))\n",
    "sns.countplot(data=df, x='sex')\n",
    "plt.title(\"Gender Distribution of Titanic Passengers\", fontsize=16)\n",
    "plt.xlabel(\"Gender\", fontsize=14)\n",
    "plt.ylabel(\"Counts\", fontsize=14)\n",
    "plt.show()\n",
    "```"
   ]
  },
  {
   "cell_type": "markdown",
   "id": "e0633f8b-9aa7-477c-ba89-e03858362073",
   "metadata": {},
   "source": [
    "```R\n",
    "library(ggplot2)\n",
    "```"
   ]
  },
  {
   "cell_type": "markdown",
   "id": "bcf64bb3-1edf-4791-bc76-ded1f61e5c62",
   "metadata": {},
   "source": [
    "$y = f(x)$"
   ]
  },
  {
   "cell_type": "markdown",
   "id": "6787d578-0941-493d-a6ea-faf30e391710",
   "metadata": {},
   "source": [
    "y = f(x)"
   ]
  },
  {
   "cell_type": "markdown",
   "id": "475ba85e-3adf-4713-a3c6-3d1fe5cac789",
   "metadata": {},
   "source": [
    "$y = f(x)$"
   ]
  },
  {
   "cell_type": "markdown",
   "id": "9207f6f4-343d-43a9-93eb-3955ed8ae5f7",
   "metadata": {},
   "source": [
    "$$y = f(x)$$"
   ]
  },
  {
   "cell_type": "markdown",
   "id": "1477d640-16a4-40f5-9fd0-5039a4658ec0",
   "metadata": {},
   "source": [
    "$x + y$"
   ]
  },
  {
   "cell_type": "markdown",
   "id": "7de3a482-d0c3-47a6-abf2-d2166b5e7172",
   "metadata": {},
   "source": [
    "$$\\frac{x}{y}$$"
   ]
  },
  {
   "cell_type": "markdown",
   "id": "0dcb3d76-c254-4f79-b93c-046772ce2d27",
   "metadata": {},
   "source": [
    "$\\alpha$"
   ]
  },
  {
   "cell_type": "markdown",
   "id": "7cce09f2-b42f-41d1-9d8a-d9fded66c32d",
   "metadata": {},
   "source": [
    "$\\beta$"
   ]
  },
  {
   "cell_type": "markdown",
   "id": "23151b3d-6ccb-4872-be5a-9d90282f147b",
   "metadata": {},
   "source": [
    "$\\alpha$"
   ]
  },
  {
   "cell_type": "markdown",
   "id": "c8b917ae-50f6-4775-8224-05cdb9f9374d",
   "metadata": {},
   "source": [
    "$x^n$"
   ]
  },
  {
   "cell_type": "markdown",
   "id": "71656a5e-abc9-40a4-83e8-aa4f5c12bfd0",
   "metadata": {},
   "source": [
    "$x_n$"
   ]
  },
  {
   "cell_type": "markdown",
   "id": "0eacaf1c-c343-499a-bfa1-5abd1da85ddc",
   "metadata": {},
   "source": [
    "$x_1 + x_2 ...+x_n$"
   ]
  },
  {
   "cell_type": "markdown",
   "id": "556463cb-9aeb-49b4-a042-2b78820dd63f",
   "metadata": {},
   "source": [
    "$\\sqrt{x}$"
   ]
  },
  {
   "cell_type": "markdown",
   "id": "06bda9b2-9557-43ce-a16e-3de3696a66c3",
   "metadata": {},
   "source": [
    "$\\sqrt{x - 1}$"
   ]
  },
  {
   "cell_type": "markdown",
   "id": "4489b304-90cd-4356-9bf2-8d62c2a9072e",
   "metadata": {},
   "source": [
    "$ x \\times y$"
   ]
  },
  {
   "cell_type": "code",
   "execution_count": null,
   "id": "a77e6560-e3a1-423a-b471-bdd6b0589ffc",
   "metadata": {},
   "outputs": [],
   "source": []
  }
 ],
 "metadata": {
  "kernelspec": {
   "display_name": "Python 3 (ipykernel)",
   "language": "python",
   "name": "python3"
  },
  "language_info": {
   "codemirror_mode": {
    "name": "ipython",
    "version": 3
   },
   "file_extension": ".py",
   "mimetype": "text/x-python",
   "name": "python",
   "nbconvert_exporter": "python",
   "pygments_lexer": "ipython3",
   "version": "3.8.8"
  }
 },
 "nbformat": 4,
 "nbformat_minor": 5
}
