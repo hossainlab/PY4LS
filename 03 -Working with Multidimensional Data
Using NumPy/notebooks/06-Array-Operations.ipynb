{
 "cells": [
  {
   "cell_type": "markdown",
   "metadata": {},
   "source": [
    "# Array Operations"
   ]
  },
  {
   "cell_type": "code",
   "execution_count": 1,
   "metadata": {},
   "outputs": [],
   "source": [
    "# import numpy \n",
    "import numpy as np"
   ]
  },
  {
   "cell_type": "markdown",
   "metadata": {},
   "source": [
    "## Copy\n",
    "- Copies array to new memory\n",
    "- **Syntax:** `np.copy(array)`"
   ]
  },
  {
   "cell_type": "code",
   "execution_count": 2,
   "metadata": {},
   "outputs": [
    {
     "name": "stdout",
     "output_type": "stream",
     "text": [
      "[0 1 2 3 4 5 6 7 8 9]\n"
     ]
    }
   ],
   "source": [
    "# create an array `A1`\n",
    "A1 = np.arange(10)\n",
    "print(A1)"
   ]
  },
  {
   "cell_type": "code",
   "execution_count": 3,
   "metadata": {},
   "outputs": [
    {
     "name": "stdout",
     "output_type": "stream",
     "text": [
      "[0 1 2 3 4 5 6 7 8 9]\n"
     ]
    }
   ],
   "source": [
    "# copy `A1` into A2 \n",
    "A2 = np.copy(A1)\n",
    "print(A2)"
   ]
  },
  {
   "cell_type": "markdown",
   "metadata": {},
   "source": [
    "## View\n",
    "- Creates view of array elements with type(dtype)\n",
    "- **Syntax:** `array.view(np.dtype)`"
   ]
  },
  {
   "cell_type": "code",
   "execution_count": 5,
   "metadata": {},
   "outputs": [
    {
     "name": "stdout",
     "output_type": "stream",
     "text": [
      "[0.0e+00 0.0e+00 0.0e+00 0.0e+00 6.0e-08 0.0e+00 0.0e+00 0.0e+00 1.2e-07\n",
      " 0.0e+00 0.0e+00 0.0e+00 1.8e-07 0.0e+00 0.0e+00 0.0e+00 2.4e-07 0.0e+00\n",
      " 0.0e+00 0.0e+00 3.0e-07 0.0e+00 0.0e+00 0.0e+00 3.6e-07 0.0e+00 0.0e+00\n",
      " 0.0e+00 4.2e-07 0.0e+00 0.0e+00 0.0e+00 4.8e-07 0.0e+00 0.0e+00 0.0e+00\n",
      " 5.4e-07 0.0e+00 0.0e+00 0.0e+00]\n"
     ]
    }
   ],
   "source": [
    "# view of array A2 \n",
    "A3 = A2.view(np.float16)\n",
    "print(A3)"
   ]
  },
  {
   "cell_type": "markdown",
   "metadata": {},
   "source": [
    "## Sorting\n",
    "- Returns a sorted copy of an array.\n",
    "- **Syntax:** `array.sort()`\n",
    "    - element-wise sorting(default) \n",
    "    - axis = 0; row\n",
    "    - axis = 1; column\n",
    "![Axis](../img/axis.png)"
   ]
  },
  {
   "cell_type": "code",
   "execution_count": 6,
   "metadata": {},
   "outputs": [
    {
     "name": "stdout",
     "output_type": "stream",
     "text": [
      "[ 9  2  3  1  5 10]\n"
     ]
    }
   ],
   "source": [
    "# Unsorted array\n",
    "A4 = np.array([9, 2, 3,1, 5, 10])\n",
    "print(A4) "
   ]
  },
  {
   "cell_type": "code",
   "execution_count": 7,
   "metadata": {},
   "outputs": [
    {
     "name": "stdout",
     "output_type": "stream",
     "text": [
      "[ 1  2  3  5  9 10]\n"
     ]
    }
   ],
   "source": [
    "# Call sort function\n",
    "A4.sort()\n",
    "print(A4)"
   ]
  },
  {
   "cell_type": "code",
   "execution_count": 8,
   "metadata": {},
   "outputs": [
    {
     "name": "stdout",
     "output_type": "stream",
     "text": [
      "[[4 1 3]\n",
      " [9 5 8]]\n"
     ]
    }
   ],
   "source": [
    "# Row and column unsorted\n",
    "A5 = np.array([[4, 1, 3], [9, 5, 8]])\n",
    "print(A5) "
   ]
  },
  {
   "cell_type": "code",
   "execution_count": 9,
   "metadata": {},
   "outputs": [
    {
     "data": {
      "text/plain": [
       "array([4, 1, 3])"
      ]
     },
     "execution_count": 9,
     "metadata": {},
     "output_type": "execute_result"
    }
   ],
   "source": [
    "A5[0]"
   ]
  },
  {
   "cell_type": "code",
   "execution_count": 11,
   "metadata": {},
   "outputs": [
    {
     "data": {
      "text/plain": [
       "1"
      ]
     },
     "execution_count": 11,
     "metadata": {},
     "output_type": "execute_result"
    }
   ],
   "source": [
    "A5[0][1]"
   ]
  },
  {
   "cell_type": "code",
   "execution_count": 10,
   "metadata": {},
   "outputs": [
    {
     "data": {
      "text/plain": [
       "array([9, 5, 8])"
      ]
     },
     "execution_count": 10,
     "metadata": {},
     "output_type": "execute_result"
    }
   ],
   "source": [
    "A5[1]"
   ]
  },
  {
   "cell_type": "code",
   "execution_count": 12,
   "metadata": {},
   "outputs": [
    {
     "data": {
      "text/plain": [
       "8"
      ]
     },
     "execution_count": 12,
     "metadata": {},
     "output_type": "execute_result"
    }
   ],
   "source": [
    "A5[1][2]"
   ]
  },
  {
   "cell_type": "code",
   "execution_count": 13,
   "metadata": {},
   "outputs": [
    {
     "name": "stdout",
     "output_type": "stream",
     "text": [
      "[[1 3 4]\n",
      " [5 8 9]]\n"
     ]
    }
   ],
   "source": [
    "# Apply sort function on column axis=1\n",
    "A5.sort(axis=1)\n",
    "print(A5)"
   ]
  },
  {
   "cell_type": "code",
   "execution_count": 14,
   "metadata": {},
   "outputs": [
    {
     "name": "stdout",
     "output_type": "stream",
     "text": [
      "[[1 3 4]\n",
      " [5 8 9]]\n"
     ]
    }
   ],
   "source": [
    "# Apply sort function on row axis=0\n",
    "A5.sort(axis=0)\n",
    "print(A5)"
   ]
  },
  {
   "cell_type": "markdown",
   "metadata": {},
   "source": [
    "## Flatten: Flattens 2D array to 1D array\n"
   ]
  },
  {
   "cell_type": "code",
   "execution_count": 16,
   "metadata": {},
   "outputs": [
    {
     "data": {
      "text/plain": [
       "array([[4, 1, 3],\n",
       "       [9, 5, 8]])"
      ]
     },
     "execution_count": 16,
     "metadata": {},
     "output_type": "execute_result"
    }
   ],
   "source": [
    "A6 = np.array([[4, 1, 3], [9, 5, 8]])\n",
    "A6 "
   ]
  },
  {
   "cell_type": "code",
   "execution_count": 17,
   "metadata": {},
   "outputs": [
    {
     "data": {
      "text/plain": [
       "array([4, 1, 3, 9, 5, 8])"
      ]
     },
     "execution_count": 17,
     "metadata": {},
     "output_type": "execute_result"
    }
   ],
   "source": [
    "# 2D array\n",
    "A6 = np.array([[4, 1, 3], [9, 5, 8]])\n",
    "# 1D array \n",
    "A6.flatten()"
   ]
  },
  {
   "cell_type": "markdown",
   "metadata": {},
   "source": [
    "## Transpose: Transposes array (rows become columns and vice versa)\n"
   ]
  },
  {
   "cell_type": "code",
   "execution_count": 18,
   "metadata": {},
   "outputs": [
    {
     "data": {
      "text/plain": [
       "array([[4, 1, 3],\n",
       "       [9, 5, 8]])"
      ]
     },
     "execution_count": 18,
     "metadata": {},
     "output_type": "execute_result"
    }
   ],
   "source": [
    "A7 = np.array([[4, 1, 3], [9, 5, 8]])\n",
    "A7"
   ]
  },
  {
   "cell_type": "code",
   "execution_count": 19,
   "metadata": {},
   "outputs": [
    {
     "data": {
      "text/plain": [
       "array([[4, 9],\n",
       "       [1, 5],\n",
       "       [3, 8]])"
      ]
     },
     "execution_count": 19,
     "metadata": {},
     "output_type": "execute_result"
    }
   ],
   "source": [
    "# Transpose A7 \n",
    "A7.T"
   ]
  },
  {
   "cell_type": "markdown",
   "metadata": {},
   "source": [
    "## Reshape: Reshapes arr to `r` rows, `c` columns without changing data\n",
    "![Reshape](../img/reshape.png)"
   ]
  },
  {
   "cell_type": "code",
   "execution_count": 20,
   "metadata": {},
   "outputs": [
    {
     "data": {
      "text/plain": [
       "array([[ 8,  9, 10],\n",
       "       [11, 12, 13]])"
      ]
     },
     "execution_count": 20,
     "metadata": {},
     "output_type": "execute_result"
    }
   ],
   "source": [
    "A8 = np.array([(8,9,10),(11,12,13)])\n",
    "A8"
   ]
  },
  {
   "cell_type": "code",
   "execution_count": 23,
   "metadata": {},
   "outputs": [
    {
     "data": {
      "text/plain": [
       "array([[ 8,  9],\n",
       "       [10, 11],\n",
       "       [12, 13]])"
      ]
     },
     "execution_count": 23,
     "metadata": {},
     "output_type": "execute_result"
    }
   ],
   "source": [
    "# Reshape --> 3x4\n",
    "A8.reshape(3,2)"
   ]
  },
  {
   "cell_type": "markdown",
   "metadata": {},
   "source": [
    "## Resize:  Changes arr shape to `rxc` and fills new values with 0\n"
   ]
  },
  {
   "cell_type": "code",
   "execution_count": 24,
   "metadata": {},
   "outputs": [
    {
     "data": {
      "text/plain": [
       "array([[ 8,  9, 10],\n",
       "       [11, 12, 13]])"
      ]
     },
     "execution_count": 24,
     "metadata": {},
     "output_type": "execute_result"
    }
   ],
   "source": [
    "A9 = np.array([(8,9,10),(11,12,13)])\n",
    "A9"
   ]
  },
  {
   "cell_type": "code",
   "execution_count": 25,
   "metadata": {},
   "outputs": [
    {
     "data": {
      "text/plain": [
       "array([[ 8,  9],\n",
       "       [10, 11],\n",
       "       [12, 13]])"
      ]
     },
     "execution_count": 25,
     "metadata": {},
     "output_type": "execute_result"
    }
   ],
   "source": [
    "# Resize \n",
    "A9.resize(3, 2)\n",
    "A9"
   ]
  },
  {
   "cell_type": "code",
   "execution_count": 26,
   "metadata": {},
   "outputs": [
    {
     "name": "stdout",
     "output_type": "stream",
     "text": [
      " resize(a, new_shape)\n",
      "\n",
      "Return a new array with the specified shape.\n",
      "\n",
      "If the new array is larger than the original array, then the new\n",
      "array is filled with repeated copies of `a`.  Note that this behavior\n",
      "is different from a.resize(new_shape) which fills with zeros instead\n",
      "of repeated copies of `a`.\n",
      "\n",
      "Parameters\n",
      "----------\n",
      "a : array_like\n",
      "    Array to be resized.\n",
      "\n",
      "new_shape : int or tuple of int\n",
      "    Shape of resized array.\n",
      "\n",
      "Returns\n",
      "-------\n",
      "reshaped_array : ndarray\n",
      "    The new array is formed from the data in the old array, repeated\n",
      "    if necessary to fill out the required number of elements.  The\n",
      "    data are repeated in the order that they are stored in memory.\n",
      "\n",
      "See Also\n",
      "--------\n",
      "np.reshape : Reshape an array without changing the total size.\n",
      "np.pad : Enlarge and pad an array.\n",
      "np.repeat: Repeat elements of an array.\n",
      "ndarray.resize : resize an array in-place.\n",
      "\n",
      "Notes\n",
      "-----\n",
      "When the total size of the array does not change `~numpy.reshape` should\n",
      "be used.  In most other cases either indexing (to reduce the size)\n",
      "or padding (to increase the size) may be a more appropriate solution.\n",
      "\n",
      "Warning: This functionality does **not** consider axes separately,\n",
      "i.e. it does not apply interpolation/extrapolation.\n",
      "It fills the return array with the required number of elements, taken\n",
      "from `a` as they are laid out in memory, disregarding strides and axes.\n",
      "(This is in case the new shape is smaller. For larger, see above.)\n",
      "This functionality is therefore not suitable to resize images,\n",
      "or data where each axis represents a separate and distinct entity.\n",
      "\n",
      "Examples\n",
      "--------\n",
      ">>> a=np.array([[0,1],[2,3]])\n",
      ">>> np.resize(a,(2,3))\n",
      "array([[0, 1, 2],\n",
      "       [3, 0, 1]])\n",
      ">>> np.resize(a,(1,4))\n",
      "array([[0, 1, 2, 3]])\n",
      ">>> np.resize(a,(2,4))\n",
      "array([[0, 1, 2, 3],\n",
      "       [0, 1, 2, 3]])\n"
     ]
    }
   ],
   "source": [
    "np.info(np.resize)"
   ]
  },
  {
   "cell_type": "code",
   "execution_count": null,
   "metadata": {},
   "outputs": [],
   "source": []
  }
 ],
 "metadata": {
  "kernelspec": {
   "display_name": "Python 3",
   "language": "python",
   "name": "python3"
  },
  "language_info": {
   "codemirror_mode": {
    "name": "ipython",
    "version": 3
   },
   "file_extension": ".py",
   "mimetype": "text/x-python",
   "name": "python",
   "nbconvert_exporter": "python",
   "pygments_lexer": "ipython3",
   "version": "3.8.3"
  },
  "latex_envs": {
   "LaTeX_envs_menu_present": true,
   "autoclose": false,
   "autocomplete": true,
   "bibliofile": "biblio.bib",
   "cite_by": "apalike",
   "current_citInitial": 1,
   "eqLabelWithNumbers": true,
   "eqNumInitial": 1,
   "hotkeys": {
    "equation": "Ctrl-E",
    "itemize": "Ctrl-I"
   },
   "labels_anchors": false,
   "latex_user_defs": false,
   "report_style_numbering": false,
   "user_envs_cfg": false
  },
  "toc": {
   "base_numbering": 1,
   "nav_menu": {},
   "number_sections": true,
   "sideBar": true,
   "skip_h1_title": false,
   "title_cell": "Table of Contents",
   "title_sidebar": "Contents",
   "toc_cell": true,
   "toc_position": {},
   "toc_section_display": true,
   "toc_window_display": false
  }
 },
 "nbformat": 4,
 "nbformat_minor": 2
}
