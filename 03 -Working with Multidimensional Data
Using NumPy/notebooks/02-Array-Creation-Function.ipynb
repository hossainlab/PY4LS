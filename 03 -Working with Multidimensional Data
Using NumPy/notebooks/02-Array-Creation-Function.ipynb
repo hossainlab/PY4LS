{
 "cells": [
  {
   "cell_type": "markdown",
   "metadata": {},
   "source": [
    "# Array Creation Function"
   ]
  },
  {
   "cell_type": "code",
   "execution_count": 1,
   "metadata": {},
   "outputs": [],
   "source": [
    "# import numpy \n",
    "import numpy as np "
   ]
  },
  {
   "cell_type": "markdown",
   "metadata": {},
   "source": [
    "## Generate arrays using `zeros()`\n",
    "- Returns an array of given shape and type filled with zeros \n",
    "- **Syntax:** `np.zeros(shape, dtype)`\n",
    "    - shape - integer or sequence of integers\n",
    "    - dtype - data type(default: float)"
   ]
  },
  {
   "cell_type": "code",
   "execution_count": 3,
   "metadata": {},
   "outputs": [
    {
     "name": "stdout",
     "output_type": "stream",
     "text": [
      "[0. 0. 0. 0. 0. 0. 0. 0. 0. 0.]\n"
     ]
    }
   ],
   "source": [
    "# 1D array of length 3 with all values 0 \n",
    "Z1 = np.zeros(10)\n",
    "print(Z1)"
   ]
  },
  {
   "cell_type": "code",
   "execution_count": 4,
   "metadata": {},
   "outputs": [
    {
     "name": "stdout",
     "output_type": "stream",
     "text": [
      "[[0. 0. 0. 0.]\n",
      " [0. 0. 0. 0.]\n",
      " [0. 0. 0. 0.]]\n"
     ]
    }
   ],
   "source": [
    "# 2D array of 3x4 with all values 0 \n",
    "Z2 = np.zeros((3,4))\n",
    "print(Z2)"
   ]
  },
  {
   "cell_type": "code",
   "execution_count": 5,
   "metadata": {},
   "outputs": [
    {
     "data": {
      "text/plain": [
       "(3, 4)"
      ]
     },
     "execution_count": 5,
     "metadata": {},
     "output_type": "execute_result"
    }
   ],
   "source": [
    "Z2.shape"
   ]
  },
  {
   "cell_type": "markdown",
   "metadata": {},
   "source": [
    "## Generate arrays using `ones()`\n",
    "- Returns an array of given shape and type filled with ones \n",
    "- **Syntax:** `np.ones(shape, dtype)`\n",
    "    - shape - integer or sequence of integers \n",
    "    - dtype - data type(default: float) "
   ]
  },
  {
   "cell_type": "code",
   "execution_count": 9,
   "metadata": {},
   "outputs": [
    {
     "name": "stdout",
     "output_type": "stream",
     "text": [
      "[1. 1. 1. 1. 1. 1. 1. 1. 1. 1.]\n"
     ]
    }
   ],
   "source": [
    "# 1D array of length 3 with all values 1\n",
    "A1 = np.ones(10)  \n",
    "print(A1) "
   ]
  },
  {
   "cell_type": "markdown",
   "metadata": {},
   "source": [
    "__Note__\n",
    "- Rows = 3 \n",
    "- Columns = 4 "
   ]
  },
  {
   "cell_type": "code",
   "execution_count": 10,
   "metadata": {},
   "outputs": [
    {
     "name": "stdout",
     "output_type": "stream",
     "text": [
      "[[1. 1. 1. 1.]\n",
      " [1. 1. 1. 1.]\n",
      " [1. 1. 1. 1.]]\n"
     ]
    }
   ],
   "source": [
    "# 2D array of 3x4 with all values 1\n",
    "A2 = np.ones((3,4))\n",
    "A2\n",
    "print(A2) "
   ]
  },
  {
   "cell_type": "markdown",
   "metadata": {},
   "source": [
    "## Generate arrays using `arange()`\n",
    "- Returns equally spaced numbers with in the given range based on step size. \n",
    "- **Syntax:** `np.arange(start, stop, step)`\n",
    "    - start- starts of interval range \n",
    "    - stop - end of interval range '\n",
    "    - step - step size of interval "
   ]
  },
  {
   "cell_type": "code",
   "execution_count": 12,
   "metadata": {},
   "outputs": [
    {
     "data": {
      "text/plain": [
       "[0, 1, 2, 3, 4, 5, 6, 7, 8, 9]"
      ]
     },
     "execution_count": 12,
     "metadata": {},
     "output_type": "execute_result"
    }
   ],
   "source": [
    "list(range(10))"
   ]
  },
  {
   "cell_type": "code",
   "execution_count": 13,
   "metadata": {},
   "outputs": [
    {
     "data": {
      "text/plain": [
       "[0, 1, 2, 3, 4, 5, 6, 7, 8, 9, 10]"
      ]
     },
     "execution_count": 13,
     "metadata": {},
     "output_type": "execute_result"
    }
   ],
   "source": [
    "list(range(11))"
   ]
  },
  {
   "cell_type": "code",
   "execution_count": 14,
   "metadata": {},
   "outputs": [
    {
     "data": {
      "text/plain": [
       "[1, 2, 3, 4, 5, 6, 7, 8, 9]"
      ]
     },
     "execution_count": 14,
     "metadata": {},
     "output_type": "execute_result"
    }
   ],
   "source": [
    "list(range(1, 10))"
   ]
  },
  {
   "cell_type": "code",
   "execution_count": 15,
   "metadata": {},
   "outputs": [
    {
     "data": {
      "text/plain": [
       "[1, 2, 3, 4, 5, 6, 7, 8, 9, 10]"
      ]
     },
     "execution_count": 15,
     "metadata": {},
     "output_type": "execute_result"
    }
   ],
   "source": [
    "list(range(1, 11))"
   ]
  },
  {
   "cell_type": "code",
   "execution_count": 16,
   "metadata": {},
   "outputs": [
    {
     "data": {
      "text/plain": [
       "[1, 3, 5, 7, 9, 11, 13, 15, 17, 19]"
      ]
     },
     "execution_count": 16,
     "metadata": {},
     "output_type": "execute_result"
    }
   ],
   "source": [
    "list(range(1, 20, 2))"
   ]
  },
  {
   "cell_type": "code",
   "execution_count": null,
   "metadata": {},
   "outputs": [],
   "source": [
    "# not specify start and step \n",
    "A1 = np.arange(10)\n",
    "print(A1)"
   ]
  },
  {
   "cell_type": "code",
   "execution_count": 18,
   "metadata": {},
   "outputs": [
    {
     "data": {
      "text/plain": [
       "array([1, 3, 5, 7, 9])"
      ]
     },
     "execution_count": 18,
     "metadata": {},
     "output_type": "execute_result"
    }
   ],
   "source": [
    "A = np.arange(1, 10, 2)\n",
    "A "
   ]
  },
  {
   "cell_type": "code",
   "execution_count": null,
   "metadata": {},
   "outputs": [],
   "source": [
    "# specifying start and step \n",
    "A2 = np.arange(start=1, stop=10, step=2)\n",
    "print(A2)"
   ]
  },
  {
   "cell_type": "code",
   "execution_count": 19,
   "metadata": {},
   "outputs": [
    {
     "name": "stdout",
     "output_type": "stream",
     "text": [
      "[10 12 14 16 18 20 22 24]\n"
     ]
    }
   ],
   "source": [
    "# another way \n",
    "A3 = np.arange(10, 25, 2)\n",
    "print(A3)"
   ]
  },
  {
   "cell_type": "markdown",
   "metadata": {},
   "source": [
    "## Generate arrays using `linspace()`\n",
    "- Returns equally spaced numbers within the given range based on the sample number. \n",
    "- **Syntax:**  `np.linspace(start, stop, num, dtype, retstep)`\n",
    "    - start-start of interval range \n",
    "    - stop-end of the interval range \n",
    "    - num- number of samples to be generated \n",
    "    - dtype-type of output array \n",
    "    - retstep-return the samples, step values "
   ]
  },
  {
   "cell_type": "code",
   "execution_count": 21,
   "metadata": {},
   "outputs": [
    {
     "name": "stdout",
     "output_type": "stream",
     "text": [
      "[0.         0.04081633 0.08163265 0.12244898 0.16326531 0.20408163\n",
      " 0.24489796 0.28571429 0.32653061 0.36734694 0.40816327 0.44897959\n",
      " 0.48979592 0.53061224 0.57142857 0.6122449  0.65306122 0.69387755\n",
      " 0.73469388 0.7755102  0.81632653 0.85714286 0.89795918 0.93877551\n",
      " 0.97959184 1.02040816 1.06122449 1.10204082 1.14285714 1.18367347\n",
      " 1.2244898  1.26530612 1.30612245 1.34693878 1.3877551  1.42857143\n",
      " 1.46938776 1.51020408 1.55102041 1.59183673 1.63265306 1.67346939\n",
      " 1.71428571 1.75510204 1.79591837 1.83673469 1.87755102 1.91836735\n",
      " 1.95918367 2.        ]\n"
     ]
    }
   ],
   "source": [
    "# array of evenly spaced values 0 to 2, here sample size = 9\n",
    "L1 = np.linspace(0,2,50)\n",
    "print(L1)"
   ]
  },
  {
   "cell_type": "code",
   "execution_count": 22,
   "metadata": {},
   "outputs": [
    {
     "name": "stdout",
     "output_type": "stream",
     "text": [
      "[  0.  20.  40.  60.  80. 100.]\n"
     ]
    }
   ],
   "source": [
    "# Array of 6 evenly divided values from 0 to 100\n",
    "L2 = np.linspace(0, 100, 6)\n",
    "print(L2) "
   ]
  },
  {
   "cell_type": "code",
   "execution_count": 27,
   "metadata": {},
   "outputs": [
    {
     "name": "stdout",
     "output_type": "stream",
     "text": [
      "[1.         1.08163265 1.16326531 1.24489796 1.32653061 1.40816327\n",
      " 1.48979592 1.57142857 1.65306122 1.73469388 1.81632653 1.89795918\n",
      " 1.97959184 2.06122449 2.14285714 2.2244898  2.30612245 2.3877551\n",
      " 2.46938776 2.55102041 2.63265306 2.71428571 2.79591837 2.87755102\n",
      " 2.95918367 3.04081633 3.12244898 3.20408163 3.28571429 3.36734694\n",
      " 3.44897959 3.53061224 3.6122449  3.69387755 3.7755102  3.85714286\n",
      " 3.93877551 4.02040816 4.10204082 4.18367347 4.26530612 4.34693878\n",
      " 4.42857143 4.51020408 4.59183673 4.67346939 4.75510204 4.83673469\n",
      " 4.91836735 5.        ]\n"
     ]
    }
   ],
   "source": [
    "# Array of 1 to 5\n",
    "L3 = np.linspace(start=1, stop=5, endpoint=True, retstep=False)\n",
    "print(L3) "
   ]
  },
  {
   "cell_type": "code",
   "execution_count": 26,
   "metadata": {},
   "outputs": [
    {
     "name": "stdout",
     "output_type": "stream",
     "text": [
      "(array([1.        , 1.08163265, 1.16326531, 1.24489796, 1.32653061,\n",
      "       1.40816327, 1.48979592, 1.57142857, 1.65306122, 1.73469388,\n",
      "       1.81632653, 1.89795918, 1.97959184, 2.06122449, 2.14285714,\n",
      "       2.2244898 , 2.30612245, 2.3877551 , 2.46938776, 2.55102041,\n",
      "       2.63265306, 2.71428571, 2.79591837, 2.87755102, 2.95918367,\n",
      "       3.04081633, 3.12244898, 3.20408163, 3.28571429, 3.36734694,\n",
      "       3.44897959, 3.53061224, 3.6122449 , 3.69387755, 3.7755102 ,\n",
      "       3.85714286, 3.93877551, 4.02040816, 4.10204082, 4.18367347,\n",
      "       4.26530612, 4.34693878, 4.42857143, 4.51020408, 4.59183673,\n",
      "       4.67346939, 4.75510204, 4.83673469, 4.91836735, 5.        ]), 0.08163265306122448)\n"
     ]
    }
   ],
   "source": [
    "# Array of 1 to 5\n",
    "L4 = np.linspace(start=1, stop=5, endpoint=True, retstep=True)\n",
    "print(L4) "
   ]
  },
  {
   "cell_type": "markdown",
   "metadata": {},
   "source": [
    "__Specifying Endpoint__\n",
    "- `endpoint=True`, inlcude 5 \n",
    "- `endpoint=False`,exclude 5 \n",
    "\n",
    "__Specifying Retstep__\n",
    "- `retstep=False`, doesn't return the step value\n",
    "- `endpoint=False`, returns the samples as well step value "
   ]
  },
  {
   "cell_type": "markdown",
   "metadata": {},
   "source": [
    "## Generate arrays using `logspace()`\n",
    "- Returns equally spaced numbers within the given range based on the log scale. \n",
    "- **Syntax:**  `np.logspace(start, stop, num, endpoint, base, dtype, retstep)`\n",
    "    - start- start of the sequence \n",
    "    - stop- end of the sequence  \n",
    "    - num- number of samples to be generated(default: 50)  \n",
    "    - dtype- type of output array \n",
    "    - retstep- return the samples, step values \n",
    "    - endpoint - if true, stop is the last sample \n",
    "    - base - base of the log space(default: 10.0) "
   ]
  },
  {
   "cell_type": "code",
   "execution_count": 28,
   "metadata": {},
   "outputs": [
    {
     "data": {
      "text/plain": [
       "array([1.00000000e+01, 1.77827941e+03, 3.16227766e+05, 5.62341325e+07,\n",
       "       1.00000000e+10])"
      ]
     },
     "execution_count": 28,
     "metadata": {},
     "output_type": "execute_result"
    }
   ],
   "source": [
    "# generate an array with 5 samples with base 10.0 \n",
    "np.logspace(1, 10, num=5, endpoint=True)"
   ]
  },
  {
   "cell_type": "code",
   "execution_count": 29,
   "metadata": {},
   "outputs": [
    {
     "data": {
      "text/plain": [
       "array([   2.        ,    9.51365692,   45.254834  ,  215.2694823 ,\n",
       "       1024.        ])"
      ]
     },
     "execution_count": 29,
     "metadata": {},
     "output_type": "execute_result"
    }
   ],
   "source": [
    "# generate an array with 5 samples with base 2.0\n",
    "np.logspace(1, 10, num=5, endpoint=True, base=2.0)"
   ]
  },
  {
   "cell_type": "markdown",
   "metadata": {},
   "source": [
    "## Generate constant arrays using `full()` \n",
    "- Return a new array of given shape and type, filled with `fill_value`. \n",
    "- **Syntax:** `np.full(shape,fill_value, dtype)`\n",
    "    - shape - Shape of the new array, e.g., ``(2, 3)`` or ``2``.\n",
    "    - fill_value - Fill value(scaler).\n",
    "    - dtype - The desired data-type for the array"
   ]
  },
  {
   "cell_type": "code",
   "execution_count": 30,
   "metadata": {},
   "outputs": [
    {
     "name": "stdout",
     "output_type": "stream",
     "text": [
      "[[7 7]\n",
      " [7 7]]\n"
     ]
    }
   ],
   "source": [
    "# generate 2x2 constant array, constant = 7\n",
    "C = np.full((2, 2), 7)\n",
    "print(C)"
   ]
  },
  {
   "cell_type": "markdown",
   "metadata": {},
   "source": [
    "## Creating identity matrix using `eye()`\n",
    "- An array where all elements are equal to zero, except for the `k`-th\n",
    "  diagonal, whose values are equal to one\n",
    "- **Syntax:** `np.eye(N, M, k, dtype)`\n",
    "    - N : Number of rows(int) in the output\n",
    "    - M : Number of columns in the output. If None, defaults to `N`.\n",
    "    - k : Index of the diagonal: 0 (the default) refers to the main diagonal,\n",
    "      a positive value refers to an upper diagonal, and a negative value\n",
    "      to a lower diagonal\n",
    "    - dtype: Data-type of the returned array."
   ]
  },
  {
   "cell_type": "code",
   "execution_count": 34,
   "metadata": {},
   "outputs": [
    {
     "name": "stdout",
     "output_type": "stream",
     "text": [
      "[[1. 0.]\n",
      " [0. 1.]]\n"
     ]
    }
   ],
   "source": [
    "# generate 2x2 identity matrix \n",
    "I = np.eye(2)\n",
    "print(I) "
   ]
  },
  {
   "cell_type": "markdown",
   "metadata": {},
   "source": [
    "## Generate arrays using random.rand() \n",
    "- Returns an array of given shape filled with random values. \n",
    "- **Syntax:** `np.random.rand(shape)`\n",
    "    - shape - integer or sequence of integer "
   ]
  },
  {
   "cell_type": "code",
   "execution_count": 40,
   "metadata": {},
   "outputs": [
    {
     "name": "stdout",
     "output_type": "stream",
     "text": [
      "[0.86280542 0.51915509 0.9383699  0.56039084 0.18475334]\n"
     ]
    }
   ],
   "source": [
    "# create an array with randomly generated 5 values \n",
    "R = np.random.rand(5)\n",
    "print(R)"
   ]
  },
  {
   "cell_type": "code",
   "execution_count": 41,
   "metadata": {},
   "outputs": [
    {
     "name": "stdout",
     "output_type": "stream",
     "text": [
      "[[0.23436422 0.00496711]\n",
      " [0.65064793 0.78261282]]\n"
     ]
    }
   ],
   "source": [
    "# generate 2x2 array of random values \n",
    "R1 = np.random.random((2, 2))\n",
    "print(R1)"
   ]
  },
  {
   "cell_type": "code",
   "execution_count": 42,
   "metadata": {},
   "outputs": [
    {
     "name": "stdout",
     "output_type": "stream",
     "text": [
      "[[0.38552667 0.94144038 0.03092473 0.73364551 0.41224623]\n",
      " [0.73734337 0.39744978 0.57429804 0.00833022 0.12073569]\n",
      " [0.43394446 0.96606851 0.66450423 0.08561559 0.41158191]\n",
      " [0.03512673 0.62793711 0.14370015 0.36719563 0.15808813]]\n"
     ]
    }
   ],
   "source": [
    "# generate 4x5 array of random floats between 0-1\n",
    "R2 = np.random.rand(4,5)\n",
    "print(R2)"
   ]
  },
  {
   "cell_type": "code",
   "execution_count": 43,
   "metadata": {},
   "outputs": [
    {
     "name": "stdout",
     "output_type": "stream",
     "text": [
      "[[77.95791755 47.85238371  7.0573093  49.03492727 44.87136896 58.61240869\n",
      "  11.50669396]\n",
      " [15.71740596 56.07912475 12.78846378 39.06553058 24.08871887 82.61439041\n",
      "  43.86911533]\n",
      " [89.97876976 49.22676754 15.61480433  6.22206449 54.82066732  9.2674994\n",
      "  74.45340615]\n",
      " [77.28332628 22.12579019 83.2497566  53.77106543  4.71818875 44.54059954\n",
      "  93.23605754]\n",
      " [35.88276164 77.38256238 56.08488143 45.99710109 11.27947077 39.36421665\n",
      "  30.26637741]\n",
      " [73.08086327 47.00245944 68.44712629 37.26669066  8.92342527 56.97283846\n",
      "  76.90147286]]\n"
     ]
    }
   ],
   "source": [
    "# generate 6x7 array of random floats between 0-100\n",
    "R3 = np.random.rand(6,7)*100\n",
    "print(R3)"
   ]
  },
  {
   "cell_type": "code",
   "execution_count": 48,
   "metadata": {},
   "outputs": [
    {
     "name": "stdout",
     "output_type": "stream",
     "text": [
      "[[3 3 1]\n",
      " [4 3 0]]\n"
     ]
    }
   ],
   "source": [
    "# generate 2x3 array of random ints between 0-4\n",
    "R4 = np.random.randint(5, size=(2,3))\n",
    "print(R4)"
   ]
  },
  {
   "cell_type": "markdown",
   "metadata": {},
   "source": [
    "## Generate empty arrays using `empty()`\n",
    "- Return a new array of given shape and type, without initializing entries.\n",
    "- **Syntax:** `np.empty(shape, dtype)`\n",
    "    - shape - integer or tuple of integer\n",
    "    - dtype - data-type\n"
   ]
  },
  {
   "cell_type": "code",
   "execution_count": null,
   "metadata": {},
   "outputs": [],
   "source": [
    "# generate an empty array \n",
    "E1 = np.empty(2) \n",
    "print(E1)"
   ]
  },
  {
   "cell_type": "code",
   "execution_count": null,
   "metadata": {},
   "outputs": [],
   "source": [
    "# 2x2 empty array\n",
    "E2 = np.empty((2, 2)) \n",
    "print(E2)"
   ]
  },
  {
   "cell_type": "markdown",
   "metadata": {},
   "source": [
    "## Arrays using specific data type \n",
    "- float16\n",
    "- float32 \n",
    "- int8\n",
    "\n",
    "__SEE MORE__\n",
    "- https://numpy.org/devdocs/user/basics.types.html"
   ]
  },
  {
   "cell_type": "code",
   "execution_count": null,
   "metadata": {},
   "outputs": [],
   "source": [
    "# generate an array of floats \n",
    "D = np.ones((2, 3, 4), dtype=np.float16)\n",
    "D"
   ]
  }
 ],
 "metadata": {
  "author": "me ",
  "kernelspec": {
   "display_name": "Python 3",
   "language": "python",
   "name": "python3"
  },
  "language_info": {
   "codemirror_mode": {
    "name": "ipython",
    "version": 3
   },
   "file_extension": ".py",
   "mimetype": "text/x-python",
   "name": "python",
   "nbconvert_exporter": "python",
   "pygments_lexer": "ipython3",
   "version": "3.8.3"
  },
  "latex_envs": {
   "LaTeX_envs_menu_present": true,
   "autoclose": false,
   "autocomplete": true,
   "bibliofile": "biblio.bib",
   "cite_by": "apalike",
   "current_citInitial": 1,
   "eqLabelWithNumbers": true,
   "eqNumInitial": 1,
   "hotkeys": {
    "equation": "Ctrl-E",
    "itemize": "Ctrl-I"
   },
   "labels_anchors": false,
   "latex_user_defs": false,
   "report_style_numbering": false,
   "user_envs_cfg": false
  },
  "toc": {
   "base_numbering": 1,
   "nav_menu": {},
   "number_sections": true,
   "sideBar": true,
   "skip_h1_title": false,
   "title_cell": "Table of Contents",
   "title_sidebar": "Contents",
   "toc_cell": true,
   "toc_position": {},
   "toc_section_display": true,
   "toc_window_display": false
  }
 },
 "nbformat": 4,
 "nbformat_minor": 2
}
