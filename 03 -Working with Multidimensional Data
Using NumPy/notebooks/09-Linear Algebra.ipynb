{
 "cells": [
  {
   "cell_type": "markdown",
   "metadata": {},
   "source": [
    "# Linear Algebra "
   ]
  },
  {
   "cell_type": "markdown",
   "metadata": {},
   "source": [
    "## What is Linear Algebra? \n",
    "Linear algebra is a branch of mathematics, but the truth of it is that linear algebra is the mathematics of data. Matrices and vectors are the language of data [Learn More](https://machinelearningmastery.com/gentle-introduction-linear-algebra/).\n",
    "\n",
    "## Applications of Linear Algebra in Data Science\n",
    "- Loss Functions\n",
    "- Regularization\n",
    "- Covariance Matrix\n",
    "- Support Vector Machine Classification\n",
    "- Principal Component Analysis (PCA)\n",
    "- Singular Value Decomposition\n",
    "- Word Embeddings\n",
    "- Latent Semantic Analysis (LSA)\n",
    "- Image Representation as Tensors\n",
    "- Convolution and Image Processing\n",
    "\n",
    "__SEE DETAILS:__\n",
    "https://www.analyticsvidhya.com/blog/2019/07/10-applications-linear-algebra-data-science/"
   ]
  },
  {
   "cell_type": "markdown",
   "metadata": {},
   "source": [
    "## Linear Algebra Operations "
   ]
  },
  {
   "cell_type": "code",
   "execution_count": 2,
   "metadata": {},
   "outputs": [],
   "source": [
    "# import numpy\n",
    "import numpy as np "
   ]
  },
  {
   "cell_type": "markdown",
   "metadata": {},
   "source": [
    "### Determinant of matrix \n",
    "- The determinant of a matrix is a special number that can be calculated from a **square matrix**\n",
    "\\begin{equation}\n",
    "A = \\begin{bmatrix} a & b \\\\ c & d \\end{bmatrix} \\\\ \n",
    "det(A) = ad - bc \n",
    "\\end{equation}\n",
    "Whre, A is a $2 \\times 2$ matrix. \n",
    "\n",
    "- `np.linalg.det()` - performs determinant of the matrix \n",
    "- **Syntax:** `np.linalg.det(matrix)`\n",
    "\n",
    "__Source:__\n",
    "https://www.mathsisfun.com/algebra/matrix-determinant.html"
   ]
  },
  {
   "cell_type": "code",
   "execution_count": 3,
   "metadata": {},
   "outputs": [
    {
     "name": "stdout",
     "output_type": "stream",
     "text": [
      "[[ 4  5 16  7]\n",
      " [ 2 -3  2  3]\n",
      " [ 3  4  5  6]\n",
      " [ 4  7  8  9]]\n"
     ]
    }
   ],
   "source": [
    "# create matrix A\n",
    "A = np.matrix(\"4, 5, 16, 7; 2,-3,2,3; 3,4,5,6; 4,7,8,9\")\n",
    "print(A)"
   ]
  },
  {
   "cell_type": "code",
   "execution_count": 4,
   "metadata": {},
   "outputs": [
    {
     "name": "stdout",
     "output_type": "stream",
     "text": [
      "[[ 4  5  6  7]\n",
      " [ 2 -3  3  3]\n",
      " [ 3  4  5  6]\n",
      " [ 4  7  8  9]]\n"
     ]
    }
   ],
   "source": [
    "# create matrix B\n",
    "B = np.matrix(\"4,5,6,7;2,-3,3,3; 3,4,5,6; 4, 7,8,9\")\n",
    "print(B)"
   ]
  },
  {
   "cell_type": "code",
   "execution_count": 5,
   "metadata": {},
   "outputs": [
    {
     "data": {
      "text/plain": [
       "128.00000000000009"
      ]
     },
     "execution_count": 5,
     "metadata": {},
     "output_type": "execute_result"
    }
   ],
   "source": [
    "# determinant of A \n",
    "np.linalg.det(A) "
   ]
  },
  {
   "cell_type": "code",
   "execution_count": 6,
   "metadata": {},
   "outputs": [
    {
     "data": {
      "text/plain": [
       "12.000000000000005"
      ]
     },
     "execution_count": 6,
     "metadata": {},
     "output_type": "execute_result"
    }
   ],
   "source": [
    "# determinant of B \n",
    "np.linalg.det(B)"
   ]
  },
  {
   "cell_type": "markdown",
   "metadata": {},
   "source": [
    "### Rank of matrix \n",
    "- `np.linalg.matrix_rank()` - returns rank of the matrix \n",
    "- **Syntax:** `np.linalg.matrix_rank(matrix)`"
   ]
  },
  {
   "cell_type": "code",
   "execution_count": 7,
   "metadata": {},
   "outputs": [
    {
     "data": {
      "text/plain": [
       "(4, 4)"
      ]
     },
     "execution_count": 7,
     "metadata": {},
     "output_type": "execute_result"
    }
   ],
   "source": [
    "A.shape "
   ]
  },
  {
   "cell_type": "code",
   "execution_count": 8,
   "metadata": {},
   "outputs": [
    {
     "data": {
      "text/plain": [
       "4"
      ]
     },
     "execution_count": 8,
     "metadata": {},
     "output_type": "execute_result"
    }
   ],
   "source": [
    "# rank of matrix A \n",
    "np.linalg.matrix_rank(A)"
   ]
  },
  {
   "cell_type": "code",
   "execution_count": 9,
   "metadata": {},
   "outputs": [
    {
     "data": {
      "text/plain": [
       "4"
      ]
     },
     "execution_count": 9,
     "metadata": {},
     "output_type": "execute_result"
    }
   ],
   "source": [
    "# rank of matrix B \n",
    "np.linalg.matrix_rank(B)"
   ]
  },
  {
   "cell_type": "markdown",
   "metadata": {},
   "source": [
    "### Inverse of a Matrix \n",
    "- `np.linalg.inv()` - returns the multiplicative inverse of a matrix.\n",
    "- **Syntax:** `np.linalg.inv(matrix)`"
   ]
  },
  {
   "cell_type": "code",
   "execution_count": 10,
   "metadata": {},
   "outputs": [
    {
     "data": {
      "text/plain": [
       "matrix([[ 9.37500000e-02, -4.68750000e-01,  3.68750000e+00,\n",
       "         -2.37500000e+00],\n",
       "        [ 3.53252781e-17, -2.50000000e-01,  5.00000000e-01,\n",
       "         -2.50000000e-01],\n",
       "        [ 9.37500000e-02,  3.12500000e-02, -3.12500000e-01,\n",
       "          1.25000000e-01],\n",
       "        [-1.25000000e-01,  3.75000000e-01, -1.75000000e+00,\n",
       "          1.25000000e+00]])"
      ]
     },
     "execution_count": 10,
     "metadata": {},
     "output_type": "execute_result"
    }
   ],
   "source": [
    "# inverse of matrix A \n",
    "np.linalg.inv(A)"
   ]
  },
  {
   "cell_type": "code",
   "execution_count": 11,
   "metadata": {},
   "outputs": [
    {
     "data": {
      "text/plain": [
       "matrix([[ 1.50000000e+00, -2.08166817e-17, -1.00000000e+00,\n",
       "         -5.00000000e-01],\n",
       "        [ 2.50000000e-01, -1.66666667e-01, -3.33333333e-01,\n",
       "          8.33333333e-02],\n",
       "        [ 1.00000000e+00,  3.33333333e-01, -3.33333333e+00,\n",
       "          1.33333333e+00],\n",
       "        [-1.75000000e+00, -1.66666667e-01,  3.66666667e+00,\n",
       "         -9.16666667e-01]])"
      ]
     },
     "execution_count": 11,
     "metadata": {},
     "output_type": "execute_result"
    }
   ],
   "source": [
    "# inverse of matrix B \n",
    "np.linalg.inv(B)"
   ]
  }
 ],
 "metadata": {
  "author": "",
  "kernelspec": {
   "display_name": "Python 3",
   "language": "python",
   "name": "python3"
  },
  "language_info": {
   "codemirror_mode": {
    "name": "ipython",
    "version": 3
   },
   "file_extension": ".py",
   "mimetype": "text/x-python",
   "name": "python",
   "nbconvert_exporter": "python",
   "pygments_lexer": "ipython3",
   "version": "3.8.3"
  },
  "latex_envs": {
   "LaTeX_envs_menu_present": true,
   "autoclose": false,
   "autocomplete": true,
   "bibliofile": "biblio.bib",
   "cite_by": "apalike",
   "current_citInitial": 1,
   "eqLabelWithNumbers": true,
   "eqNumInitial": 1,
   "hotkeys": {
    "equation": "Ctrl-E",
    "itemize": "Ctrl-I"
   },
   "labels_anchors": false,
   "latex_user_defs": false,
   "report_style_numbering": false,
   "user_envs_cfg": false
  },
  "toc": {
   "base_numbering": 1,
   "nav_menu": {},
   "number_sections": true,
   "sideBar": true,
   "skip_h1_title": false,
   "title_cell": "Table of Contents",
   "title_sidebar": "Contents",
   "toc_cell": false,
   "toc_position": {},
   "toc_section_display": true,
   "toc_window_display": false
  }
 },
 "nbformat": 4,
 "nbformat_minor": 4
}
