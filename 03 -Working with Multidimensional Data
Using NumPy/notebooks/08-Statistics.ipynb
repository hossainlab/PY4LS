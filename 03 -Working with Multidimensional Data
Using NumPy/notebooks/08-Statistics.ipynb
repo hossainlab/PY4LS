{
 "cells": [
  {
   "cell_type": "markdown",
   "metadata": {},
   "source": [
    "# Statistics"
   ]
  },
  {
   "cell_type": "code",
   "execution_count": 1,
   "metadata": {},
   "outputs": [],
   "source": [
    "import numpy as np "
   ]
  },
  {
   "cell_type": "code",
   "execution_count": 4,
   "metadata": {},
   "outputs": [
    {
     "name": "stdout",
     "output_type": "stream",
     "text": [
      "[ 0  1  2  3  4  5  6  7  8  9 10 11 12 13 14 15 16 17 18 19]\n"
     ]
    }
   ],
   "source": [
    "# 1D array \n",
    "A1 = np.arange(20)\n",
    "print(A1)"
   ]
  },
  {
   "cell_type": "code",
   "execution_count": null,
   "metadata": {},
   "outputs": [],
   "source": [
    "A.ndim"
   ]
  },
  {
   "cell_type": "code",
   "execution_count": 5,
   "metadata": {},
   "outputs": [
    {
     "name": "stdout",
     "output_type": "stream",
     "text": [
      "[[11 12 13]\n",
      " [21 22 23]]\n"
     ]
    }
   ],
   "source": [
    "# 2D array \n",
    "A2 = np.array([[11, 12, 13], [21, 22, 23]])\n",
    "print(A2)"
   ]
  },
  {
   "cell_type": "code",
   "execution_count": 12,
   "metadata": {},
   "outputs": [
    {
     "data": {
      "text/plain": [
       "array([32, 34, 36])"
      ]
     },
     "execution_count": 12,
     "metadata": {},
     "output_type": "execute_result"
    }
   ],
   "source": [
    "np.sum(A2, axis=0)"
   ]
  },
  {
   "cell_type": "code",
   "execution_count": 6,
   "metadata": {},
   "outputs": [
    {
     "data": {
      "text/plain": [
       "102"
      ]
     },
     "execution_count": 6,
     "metadata": {},
     "output_type": "execute_result"
    }
   ],
   "source": [
    "np.sum(A2)"
   ]
  },
  {
   "cell_type": "code",
   "execution_count": null,
   "metadata": {},
   "outputs": [],
   "source": [
    "A2.ndim"
   ]
  },
  {
   "cell_type": "markdown",
   "metadata": {},
   "source": [
    "## Sum \n",
    "- Sum of array elements over a given axis.\n",
    "    - **Syntax:** `np.sum(array); array-wise sum`\n",
    "    - **Syntax:** `np.sum(array, axis=0); row-wise sum`\n",
    "    - **Syntax:** `np.sum(array, axis=1); column-wise sum`"
   ]
  },
  {
   "cell_type": "markdown",
   "metadata": {},
   "source": [
    "![](../img/axis.jpg)\n",
    "Axis 0 is thus the first dimension (the \"rows\"), and axis 1 is the second dimension (the \"columns\")"
   ]
  },
  {
   "cell_type": "code",
   "execution_count": null,
   "metadata": {},
   "outputs": [],
   "source": [
    "# sum of 1D array \n",
    "np.sum(A1)"
   ]
  },
  {
   "cell_type": "code",
   "execution_count": null,
   "metadata": {},
   "outputs": [],
   "source": [
    "# array-wise sum of 2D array \n",
    "np.sum(A2)"
   ]
  },
  {
   "cell_type": "code",
   "execution_count": null,
   "metadata": {},
   "outputs": [],
   "source": [
    "A2 "
   ]
  },
  {
   "cell_type": "code",
   "execution_count": null,
   "metadata": {},
   "outputs": [],
   "source": [
    "# sum of 2D array(axis=0, row-wise sum)\n",
    "np.sum(A2, axis=0)"
   ]
  },
  {
   "cell_type": "code",
   "execution_count": null,
   "metadata": {},
   "outputs": [],
   "source": [
    "# sum of 2D array(axis=1, column-wise sum)\n",
    "np.sum(A2, axis=1)"
   ]
  },
  {
   "cell_type": "markdown",
   "metadata": {},
   "source": [
    "## Mean \n",
    "- Compute the median along the specified axis.\n",
    "- Returns the average of the array elements. The average is taken over the flattened array by default,  otherwise over the specified axis. `float64` intermediate and return values re used for integer inputs.\n",
    "\n",
    "    - **Syntax:** `np.mean(array); array-wise mean`\n",
    "    - **Syntax:** `np.mean(array, axis=0); row-wise mean`\n",
    "    - **Syntax:** `np.mean(array, axis=1); column-wise mean`"
   ]
  },
  {
   "cell_type": "code",
   "execution_count": null,
   "metadata": {},
   "outputs": [],
   "source": [
    "A1 "
   ]
  },
  {
   "cell_type": "code",
   "execution_count": null,
   "metadata": {},
   "outputs": [],
   "source": [
    "A2 "
   ]
  },
  {
   "cell_type": "code",
   "execution_count": null,
   "metadata": {},
   "outputs": [],
   "source": [
    "# compute the average of array `A1`\n",
    "np.mean(A)"
   ]
  },
  {
   "cell_type": "code",
   "execution_count": null,
   "metadata": {},
   "outputs": [],
   "source": [
    "# mean of 2D array(axis=0, row-wise)\n",
    "np.mean(A2, axis=0)"
   ]
  },
  {
   "cell_type": "code",
   "execution_count": null,
   "metadata": {},
   "outputs": [],
   "source": [
    "# mean of 2D array(axis=1, column-wise)\n",
    "np.mean(A2, axis=1)"
   ]
  },
  {
   "cell_type": "markdown",
   "metadata": {},
   "source": [
    "## Median\n",
    "- Compute the median along the specified axis.\n",
    "- Returns the median of the array elements.\n",
    "    \n",
    "    - **Syntax:** `np.median(array); array-wise median`\n",
    "    - **Syntax:** `np.median(array, axis=0); row-wise median`\n",
    "    - **Syntax:** `np.median(array, axis=1); column-wise median`"
   ]
  },
  {
   "cell_type": "code",
   "execution_count": null,
   "metadata": {},
   "outputs": [],
   "source": [
    "# compute the meadian of `A1`\n",
    "np.median(A1)"
   ]
  },
  {
   "cell_type": "code",
   "execution_count": null,
   "metadata": {},
   "outputs": [],
   "source": [
    "# median of 2D array(axis=0, row-wise)\n",
    "np.median(A2, axis=0)"
   ]
  },
  {
   "cell_type": "code",
   "execution_count": null,
   "metadata": {},
   "outputs": [],
   "source": [
    "# median of 2D array(axis=1, column-wise)\n",
    "np.median(A2, axis=1)"
   ]
  },
  {
   "cell_type": "markdown",
   "metadata": {},
   "source": [
    "## Minimum \n",
    "- Return the minimum of an array or minimum along an axis.\n",
    "     \n",
    "    - **Syntax:** `np.min(array); array-wise min`\n",
    "    - **Syntax:** `np.min(array, axis=0); row-wise min`\n",
    "    - **Syntax:** `np.min(array, axis=1); column-wise min`"
   ]
  },
  {
   "cell_type": "code",
   "execution_count": null,
   "metadata": {},
   "outputs": [],
   "source": [
    "# minimum value of `A1`\n",
    "np.min(A)"
   ]
  },
  {
   "cell_type": "code",
   "execution_count": null,
   "metadata": {},
   "outputs": [],
   "source": [
    "# minimum value of A2(axis=0, row-wise)\n",
    "np.min(A2, axis=0)"
   ]
  },
  {
   "cell_type": "code",
   "execution_count": null,
   "metadata": {},
   "outputs": [],
   "source": [
    "# minimum value of A2(axis=1, column-wise)\n",
    "np.min(A2, axis=1)"
   ]
  },
  {
   "cell_type": "markdown",
   "metadata": {},
   "source": [
    "## Maximum\n",
    "- Return the maximum of an array or minimum along an axis.\n",
    "     \n",
    "    - **Syntax:** `np.max(array); array-wise max`\n",
    "    - **Syntax:** `np.max(array, axis=0); row-wise max`\n",
    "    - **Syntax:** `np.max(array, axis=1); column-wise max`"
   ]
  },
  {
   "cell_type": "code",
   "execution_count": null,
   "metadata": {},
   "outputs": [],
   "source": [
    "# maxiumum value of `A1`\n",
    "np.max(A1)"
   ]
  },
  {
   "cell_type": "code",
   "execution_count": null,
   "metadata": {},
   "outputs": [],
   "source": [
    "# maxiumum value of A2(axis=0, row-wise)\n",
    "np.max(A2, axis=0)"
   ]
  },
  {
   "cell_type": "code",
   "execution_count": null,
   "metadata": {},
   "outputs": [],
   "source": [
    "# maxiumum value of A2(axis=1, column-wise)\n",
    "np.max(A2, axis=1)"
   ]
  },
  {
   "cell_type": "markdown",
   "metadata": {},
   "source": [
    "## Range \n",
    "- **Syntax:** `np.max(array) - np.min(array)`"
   ]
  },
  {
   "cell_type": "code",
   "execution_count": null,
   "metadata": {},
   "outputs": [],
   "source": [
    "A1.max() "
   ]
  },
  {
   "cell_type": "code",
   "execution_count": null,
   "metadata": {},
   "outputs": [],
   "source": [
    "A1.min() "
   ]
  },
  {
   "cell_type": "code",
   "execution_count": null,
   "metadata": {},
   "outputs": [],
   "source": [
    "r = np.max(A1) - np.min(A1)\n",
    "print(r)"
   ]
  },
  {
   "cell_type": "markdown",
   "metadata": {},
   "source": [
    "## Standard Deviation\n",
    "- Compute the standard deviation along the specified axis.\n",
    "- Returns the standard deviation, a measure of the spread of a distribution, of the array elements. The standard deviation is computed for the\n",
    "flattened array by default, otherwise over the specified axis.\n",
    "    - **Syntax:** `np.std(array); array-wise std`\n",
    "    - **Syntax:** `np.std(array, axis=0); row-wise std`\n",
    "    - **Syntax:** `np.std(array, axis=1); column-wise std`"
   ]
  },
  {
   "cell_type": "code",
   "execution_count": null,
   "metadata": {},
   "outputs": [],
   "source": [
    "# compute the standard deviation of `A1`\n",
    "np.std(A1)"
   ]
  },
  {
   "cell_type": "code",
   "execution_count": null,
   "metadata": {},
   "outputs": [],
   "source": [
    "# standard deviation of 2D array(axis=0, row-wise)\n",
    "np.std(A2, axis=0)"
   ]
  },
  {
   "cell_type": "code",
   "execution_count": null,
   "metadata": {},
   "outputs": [],
   "source": [
    "# standard deviation of 2D array(axis=1, column-wise)\n",
    "np.std(A2, axis=1)"
   ]
  },
  {
   "cell_type": "markdown",
   "metadata": {},
   "source": [
    "## Variance\n",
    "- Compute the variance along the specified axis.\n",
    "- Returns the variance of the array elements, a measure of the spread of a\n",
    "  distribution.  The variance is computed for the flattened array by\n",
    "  default, otherwise over the specified axis.\n",
    "    - **Syntax:** `np.var(array); array-wise var`\n",
    "    - **Syntax:** `np.var(array, axis=0); row-wise var`\n",
    "    - **Syntax:** `np.var(array, axis=1); column-wise var`"
   ]
  },
  {
   "cell_type": "code",
   "execution_count": null,
   "metadata": {},
   "outputs": [],
   "source": [
    "# compute the variance of `A`\n",
    "np.var(A1)"
   ]
  },
  {
   "cell_type": "code",
   "execution_count": null,
   "metadata": {},
   "outputs": [],
   "source": [
    "# variance of 2D array(axis=0, row-wise)\n",
    "np.std(A2, axis=0)"
   ]
  },
  {
   "cell_type": "code",
   "execution_count": null,
   "metadata": {},
   "outputs": [],
   "source": [
    "# variance of 2D array(axis=1, column-wise)\n",
    "np.std(A2, axis=1)"
   ]
  },
  {
   "cell_type": "markdown",
   "metadata": {},
   "source": [
    "## Quantile\n",
    "- Compute the q-th quantile of the data along the specified axis.\n",
    "    - **Syntax:** `np.quantile(array); array-wise quantile`\n",
    "    - **Syntax:** `np.quantile(array, axis=0); row-wise quantile`\n",
    "    - **Syntax:** `np.quantile(array, axis=1); column-wise quantile`"
   ]
  },
  {
   "cell_type": "code",
   "execution_count": null,
   "metadata": {},
   "outputs": [],
   "source": [
    "# 25th percentile of `A1`\n",
    "np.quantile(A1, 0.25)"
   ]
  },
  {
   "cell_type": "code",
   "execution_count": null,
   "metadata": {},
   "outputs": [],
   "source": [
    "# 50th percentile of `A2`(axis=0)\n",
    "np.quantile(A2, 0.5, axis=0)"
   ]
  },
  {
   "cell_type": "code",
   "execution_count": null,
   "metadata": {},
   "outputs": [],
   "source": [
    "# 75th percentile of `A2`(axis=1)\n",
    "np.quantile(A2, 0.75, axis=1)"
   ]
  },
  {
   "cell_type": "markdown",
   "metadata": {},
   "source": [
    "## Correlation Coefficient"
   ]
  },
  {
   "cell_type": "code",
   "execution_count": null,
   "metadata": {},
   "outputs": [],
   "source": [
    "# documentation \n",
    "np.info(np.corrcoef)"
   ]
  },
  {
   "cell_type": "code",
   "execution_count": null,
   "metadata": {},
   "outputs": [],
   "source": [
    "# compute Correlation Coefficient\n",
    "np.corrcoef(A2)"
   ]
  }
 ],
 "metadata": {
  "kernelspec": {
   "display_name": "Python 3",
   "language": "python",
   "name": "python3"
  },
  "language_info": {
   "codemirror_mode": {
    "name": "ipython",
    "version": 3
   },
   "file_extension": ".py",
   "mimetype": "text/x-python",
   "name": "python",
   "nbconvert_exporter": "python",
   "pygments_lexer": "ipython3",
   "version": "3.8.3"
  },
  "latex_envs": {
   "LaTeX_envs_menu_present": true,
   "autoclose": false,
   "autocomplete": true,
   "bibliofile": "biblio.bib",
   "cite_by": "apalike",
   "current_citInitial": 1,
   "eqLabelWithNumbers": true,
   "eqNumInitial": 1,
   "hotkeys": {
    "equation": "Ctrl-E",
    "itemize": "Ctrl-I"
   },
   "labels_anchors": false,
   "latex_user_defs": false,
   "report_style_numbering": false,
   "user_envs_cfg": false
  },
  "toc": {
   "base_numbering": 1,
   "nav_menu": {},
   "number_sections": true,
   "sideBar": true,
   "skip_h1_title": false,
   "title_cell": "Table of Contents",
   "title_sidebar": "Contents",
   "toc_cell": false,
   "toc_position": {},
   "toc_section_display": true,
   "toc_window_display": false
  }
 },
 "nbformat": 4,
 "nbformat_minor": 4
}
